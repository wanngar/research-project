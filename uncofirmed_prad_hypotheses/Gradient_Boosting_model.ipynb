{
  "nbformat": 4,
  "nbformat_minor": 0,
  "metadata": {
    "colab": {
      "provenance": []
    },
    "kernelspec": {
      "name": "python3",
      "display_name": "Python 3"
    },
    "language_info": {
      "name": "python"
    }
  },
  "cells": [
    {
      "cell_type": "code",
      "source": [
        "!pip install catboost"
      ],
      "metadata": {
        "colab": {
          "base_uri": "https://localhost:8080/"
        },
        "id": "azxnrYk0KYVK",
        "outputId": "2c03592d-0ff0-4624-9218-586b66e720ab"
      },
      "execution_count": 77,
      "outputs": [
        {
          "output_type": "stream",
          "name": "stdout",
          "text": [
            "Requirement already satisfied: catboost in /usr/local/lib/python3.11/dist-packages (1.2.8)\n",
            "Requirement already satisfied: graphviz in /usr/local/lib/python3.11/dist-packages (from catboost) (0.20.3)\n",
            "Requirement already satisfied: matplotlib in /usr/local/lib/python3.11/dist-packages (from catboost) (3.10.0)\n",
            "Requirement already satisfied: numpy<3.0,>=1.16.0 in /usr/local/lib/python3.11/dist-packages (from catboost) (2.0.2)\n",
            "Requirement already satisfied: pandas>=0.24 in /usr/local/lib/python3.11/dist-packages (from catboost) (2.2.2)\n",
            "Requirement already satisfied: scipy in /usr/local/lib/python3.11/dist-packages (from catboost) (1.15.3)\n",
            "Requirement already satisfied: plotly in /usr/local/lib/python3.11/dist-packages (from catboost) (5.24.1)\n",
            "Requirement already satisfied: six in /usr/local/lib/python3.11/dist-packages (from catboost) (1.17.0)\n",
            "Requirement already satisfied: python-dateutil>=2.8.2 in /usr/local/lib/python3.11/dist-packages (from pandas>=0.24->catboost) (2.9.0.post0)\n",
            "Requirement already satisfied: pytz>=2020.1 in /usr/local/lib/python3.11/dist-packages (from pandas>=0.24->catboost) (2025.2)\n",
            "Requirement already satisfied: tzdata>=2022.7 in /usr/local/lib/python3.11/dist-packages (from pandas>=0.24->catboost) (2025.2)\n",
            "Requirement already satisfied: contourpy>=1.0.1 in /usr/local/lib/python3.11/dist-packages (from matplotlib->catboost) (1.3.2)\n",
            "Requirement already satisfied: cycler>=0.10 in /usr/local/lib/python3.11/dist-packages (from matplotlib->catboost) (0.12.1)\n",
            "Requirement already satisfied: fonttools>=4.22.0 in /usr/local/lib/python3.11/dist-packages (from matplotlib->catboost) (4.58.0)\n",
            "Requirement already satisfied: kiwisolver>=1.3.1 in /usr/local/lib/python3.11/dist-packages (from matplotlib->catboost) (1.4.8)\n",
            "Requirement already satisfied: packaging>=20.0 in /usr/local/lib/python3.11/dist-packages (from matplotlib->catboost) (24.2)\n",
            "Requirement already satisfied: pillow>=8 in /usr/local/lib/python3.11/dist-packages (from matplotlib->catboost) (11.2.1)\n",
            "Requirement already satisfied: pyparsing>=2.3.1 in /usr/local/lib/python3.11/dist-packages (from matplotlib->catboost) (3.2.3)\n",
            "Requirement already satisfied: tenacity>=6.2.0 in /usr/local/lib/python3.11/dist-packages (from plotly->catboost) (9.1.2)\n"
          ]
        }
      ]
    },
    {
      "cell_type": "code",
      "source": [
        "import pandas as pd\n",
        "import numpy as np\n",
        "import matplotlib.pyplot as plt\n",
        "import seaborn as sns\n",
        "import plotly.express as px\n",
        "import seaborn as sns\n",
        "\n",
        "\n",
        "import plotly.graph_objects as go # Библиотека Plotly. Модуль \"Graph Objects\"\n",
        "import plotly.express as px # Библиотека Plotly. Модуль \"Express\"\n",
        "\n",
        "\n",
        "from xgboost import XGBClassifier\n",
        "from xgboost import plot_importance\n",
        "import matplotlib.pyplot as plt\n",
        "from lightgbm import LGBMClassifier\n",
        "from catboost import CatBoostClassifier\n",
        "\n",
        "from sklearn.model_selection import train_test_split#  функция разбиения на тренировочную и тестовую выборку\n",
        "from sklearn.metrics import*\n",
        "from imblearn.metrics import specificity_score\n",
        "from sklearn.preprocessing import OrdinalEncoder\n",
        "from imblearn.under_sampling import RandomUnderSampler\n",
        "from collections import Counter"
      ],
      "metadata": {
        "id": "5OklMLYvCRQd"
      },
      "execution_count": 119,
      "outputs": []
    },
    {
      "cell_type": "code",
      "execution_count": 79,
      "metadata": {
        "id": "X8YKJZCICGN5"
      },
      "outputs": [],
      "source": [
        "data = pd.read_csv('https://raw.githubusercontent.com/STEPANPROTSKY/research-project/refs/heads/main/prad_data/genes_recurrence.csv')\n",
        "data_ = data.copy()\n",
        "data_ = data.drop(columns = ['key_0'])\n",
        "data_['patient.biochemical_recurrence'] = data_['patient.biochemical_recurrence'].apply(lambda x: 1 if x == 'yes' else 0)"
      ]
    },
    {
      "cell_type": "code",
      "source": [
        "data_"
      ],
      "metadata": {
        "colab": {
          "base_uri": "https://localhost:8080/",
          "height": 424
        },
        "id": "3FqI3FdHC7ll",
        "outputId": "dc28212c-3769-4fa0-dda2-38f78d7acaec"
      },
      "execution_count": 80,
      "outputs": [
        {
          "output_type": "execute_result",
          "data": {
            "text/plain": [
              "        A1BG     A1CF    A2BP1     A2LD1    A2ML1         A2M    A4GALT  \\\n",
              "0    67.9197   0.0000  25.2317  136.0453  45.3141   4827.8527  767.7652   \n",
              "1    17.9448   0.0000  17.9448  169.1662   2.6585  20000.6912  503.7834   \n",
              "2    17.1029   0.3676   1.8382  159.0037   1.1029   4906.4963  251.1029   \n",
              "3    17.6115   0.0000   3.7651  175.2959   0.9413   8427.4903  464.5252   \n",
              "4    43.5168   0.0000   0.5038  263.1062   2.5192   8330.8225  458.4960   \n",
              "..       ...      ...      ...       ...      ...         ...       ...   \n",
              "535  33.0500   0.0000   2.9902   47.9539  65.3567   8565.8778  289.1927   \n",
              "536  66.2362   0.0000  13.0130  126.2062  68.0681  23998.2482  997.4975   \n",
              "537  15.4093   0.0000   0.0000  131.9862  17.4639  14974.4153  380.0973   \n",
              "538  31.1257   0.0000   0.0000  353.2561  31.8174   5047.7607  454.4354   \n",
              "539  49.8764  89.4273  14.2783  116.9694  60.1192  14437.1491  459.9118   \n",
              "\n",
              "      A4GNT  AAA1       AAAS  ...      ZXDB       ZXDC    ZYG11A     ZYG11B  \\\n",
              "0    0.5149   0.0   922.7600  ...  284.2430  1101.4418   38.1050   692.0700   \n",
              "1    1.3292   0.0   921.1659  ...  383.4868   907.8734  167.4847   756.3397   \n",
              "2    0.3676   0.0   801.4706  ...  598.8971  1727.5735   44.4853  1190.8088   \n",
              "3    0.4706   0.0   878.6916  ...  421.2260  1016.1195   64.4782   612.7780   \n",
              "4    0.0000   0.0  1017.2566  ...  358.7354   994.5837  163.7486   708.4016   \n",
              "..      ...   ...        ...  ...       ...        ...       ...        ...   \n",
              "535  0.0000   0.0   690.7305  ...  400.6835  1269.1158   95.6856   645.8778   \n",
              "536  0.0000   0.0   664.6647  ...  462.9630  1486.4865   75.0751  1006.0060   \n",
              "537  0.0000   0.0   831.0776  ...  387.2883   939.9703  252.7133  1007.7714   \n",
              "538  0.0000   0.0   842.4693  ...  320.2490  1101.8503  142.4866   805.1185   \n",
              "539  0.0000   0.0   716.9213  ...  286.3176  1200.1293  113.4750   711.6609   \n",
              "\n",
              "           ZYX      ZZEF1       ZZZ3  psiTPTE22    tAKR  \\\n",
              "0    2303.8105  1488.6715   505.1493   199.2791  0.0000   \n",
              "1    2712.3218   854.0391   640.6955   291.7690  0.0000   \n",
              "2    1534.5588  2081.2500  1373.5294    36.0294  0.3676   \n",
              "3    3059.1834  1029.7682  1049.0646    21.1790  0.0000   \n",
              "4    2271.8226   837.3851   752.7396    13.6037  0.0000   \n",
              "..         ...        ...        ...        ...     ...   \n",
              "535  1463.9043  1211.8753   550.6194    32.4648  0.0000   \n",
              "536  4285.7858  1448.4484   607.1071    56.5566  0.0000   \n",
              "537  2525.0787   773.5493   740.6761    12.3275  0.0000   \n",
              "538  1455.3000  1340.4807   605.2222   687.5324  0.0000   \n",
              "539  4894.4533   598.1859   518.5280    45.0894  0.0000   \n",
              "\n",
              "     patient.biochemical_recurrence  \n",
              "0                                 0  \n",
              "1                                 0  \n",
              "2                                 0  \n",
              "3                                 0  \n",
              "4                                 0  \n",
              "..                              ...  \n",
              "535                               0  \n",
              "536                               0  \n",
              "537                               0  \n",
              "538                               0  \n",
              "539                               0  \n",
              "\n",
              "[540 rows x 20502 columns]"
            ],
            "text/html": [
              "\n",
              "  <div id=\"df-b12be817-623c-4031-88eb-ba722a129fe1\" class=\"colab-df-container\">\n",
              "    <div>\n",
              "<style scoped>\n",
              "    .dataframe tbody tr th:only-of-type {\n",
              "        vertical-align: middle;\n",
              "    }\n",
              "\n",
              "    .dataframe tbody tr th {\n",
              "        vertical-align: top;\n",
              "    }\n",
              "\n",
              "    .dataframe thead th {\n",
              "        text-align: right;\n",
              "    }\n",
              "</style>\n",
              "<table border=\"1\" class=\"dataframe\">\n",
              "  <thead>\n",
              "    <tr style=\"text-align: right;\">\n",
              "      <th></th>\n",
              "      <th>A1BG</th>\n",
              "      <th>A1CF</th>\n",
              "      <th>A2BP1</th>\n",
              "      <th>A2LD1</th>\n",
              "      <th>A2ML1</th>\n",
              "      <th>A2M</th>\n",
              "      <th>A4GALT</th>\n",
              "      <th>A4GNT</th>\n",
              "      <th>AAA1</th>\n",
              "      <th>AAAS</th>\n",
              "      <th>...</th>\n",
              "      <th>ZXDB</th>\n",
              "      <th>ZXDC</th>\n",
              "      <th>ZYG11A</th>\n",
              "      <th>ZYG11B</th>\n",
              "      <th>ZYX</th>\n",
              "      <th>ZZEF1</th>\n",
              "      <th>ZZZ3</th>\n",
              "      <th>psiTPTE22</th>\n",
              "      <th>tAKR</th>\n",
              "      <th>patient.biochemical_recurrence</th>\n",
              "    </tr>\n",
              "  </thead>\n",
              "  <tbody>\n",
              "    <tr>\n",
              "      <th>0</th>\n",
              "      <td>67.9197</td>\n",
              "      <td>0.0000</td>\n",
              "      <td>25.2317</td>\n",
              "      <td>136.0453</td>\n",
              "      <td>45.3141</td>\n",
              "      <td>4827.8527</td>\n",
              "      <td>767.7652</td>\n",
              "      <td>0.5149</td>\n",
              "      <td>0.0</td>\n",
              "      <td>922.7600</td>\n",
              "      <td>...</td>\n",
              "      <td>284.2430</td>\n",
              "      <td>1101.4418</td>\n",
              "      <td>38.1050</td>\n",
              "      <td>692.0700</td>\n",
              "      <td>2303.8105</td>\n",
              "      <td>1488.6715</td>\n",
              "      <td>505.1493</td>\n",
              "      <td>199.2791</td>\n",
              "      <td>0.0000</td>\n",
              "      <td>0</td>\n",
              "    </tr>\n",
              "    <tr>\n",
              "      <th>1</th>\n",
              "      <td>17.9448</td>\n",
              "      <td>0.0000</td>\n",
              "      <td>17.9448</td>\n",
              "      <td>169.1662</td>\n",
              "      <td>2.6585</td>\n",
              "      <td>20000.6912</td>\n",
              "      <td>503.7834</td>\n",
              "      <td>1.3292</td>\n",
              "      <td>0.0</td>\n",
              "      <td>921.1659</td>\n",
              "      <td>...</td>\n",
              "      <td>383.4868</td>\n",
              "      <td>907.8734</td>\n",
              "      <td>167.4847</td>\n",
              "      <td>756.3397</td>\n",
              "      <td>2712.3218</td>\n",
              "      <td>854.0391</td>\n",
              "      <td>640.6955</td>\n",
              "      <td>291.7690</td>\n",
              "      <td>0.0000</td>\n",
              "      <td>0</td>\n",
              "    </tr>\n",
              "    <tr>\n",
              "      <th>2</th>\n",
              "      <td>17.1029</td>\n",
              "      <td>0.3676</td>\n",
              "      <td>1.8382</td>\n",
              "      <td>159.0037</td>\n",
              "      <td>1.1029</td>\n",
              "      <td>4906.4963</td>\n",
              "      <td>251.1029</td>\n",
              "      <td>0.3676</td>\n",
              "      <td>0.0</td>\n",
              "      <td>801.4706</td>\n",
              "      <td>...</td>\n",
              "      <td>598.8971</td>\n",
              "      <td>1727.5735</td>\n",
              "      <td>44.4853</td>\n",
              "      <td>1190.8088</td>\n",
              "      <td>1534.5588</td>\n",
              "      <td>2081.2500</td>\n",
              "      <td>1373.5294</td>\n",
              "      <td>36.0294</td>\n",
              "      <td>0.3676</td>\n",
              "      <td>0</td>\n",
              "    </tr>\n",
              "    <tr>\n",
              "      <th>3</th>\n",
              "      <td>17.6115</td>\n",
              "      <td>0.0000</td>\n",
              "      <td>3.7651</td>\n",
              "      <td>175.2959</td>\n",
              "      <td>0.9413</td>\n",
              "      <td>8427.4903</td>\n",
              "      <td>464.5252</td>\n",
              "      <td>0.4706</td>\n",
              "      <td>0.0</td>\n",
              "      <td>878.6916</td>\n",
              "      <td>...</td>\n",
              "      <td>421.2260</td>\n",
              "      <td>1016.1195</td>\n",
              "      <td>64.4782</td>\n",
              "      <td>612.7780</td>\n",
              "      <td>3059.1834</td>\n",
              "      <td>1029.7682</td>\n",
              "      <td>1049.0646</td>\n",
              "      <td>21.1790</td>\n",
              "      <td>0.0000</td>\n",
              "      <td>0</td>\n",
              "    </tr>\n",
              "    <tr>\n",
              "      <th>4</th>\n",
              "      <td>43.5168</td>\n",
              "      <td>0.0000</td>\n",
              "      <td>0.5038</td>\n",
              "      <td>263.1062</td>\n",
              "      <td>2.5192</td>\n",
              "      <td>8330.8225</td>\n",
              "      <td>458.4960</td>\n",
              "      <td>0.0000</td>\n",
              "      <td>0.0</td>\n",
              "      <td>1017.2566</td>\n",
              "      <td>...</td>\n",
              "      <td>358.7354</td>\n",
              "      <td>994.5837</td>\n",
              "      <td>163.7486</td>\n",
              "      <td>708.4016</td>\n",
              "      <td>2271.8226</td>\n",
              "      <td>837.3851</td>\n",
              "      <td>752.7396</td>\n",
              "      <td>13.6037</td>\n",
              "      <td>0.0000</td>\n",
              "      <td>0</td>\n",
              "    </tr>\n",
              "    <tr>\n",
              "      <th>...</th>\n",
              "      <td>...</td>\n",
              "      <td>...</td>\n",
              "      <td>...</td>\n",
              "      <td>...</td>\n",
              "      <td>...</td>\n",
              "      <td>...</td>\n",
              "      <td>...</td>\n",
              "      <td>...</td>\n",
              "      <td>...</td>\n",
              "      <td>...</td>\n",
              "      <td>...</td>\n",
              "      <td>...</td>\n",
              "      <td>...</td>\n",
              "      <td>...</td>\n",
              "      <td>...</td>\n",
              "      <td>...</td>\n",
              "      <td>...</td>\n",
              "      <td>...</td>\n",
              "      <td>...</td>\n",
              "      <td>...</td>\n",
              "      <td>...</td>\n",
              "    </tr>\n",
              "    <tr>\n",
              "      <th>535</th>\n",
              "      <td>33.0500</td>\n",
              "      <td>0.0000</td>\n",
              "      <td>2.9902</td>\n",
              "      <td>47.9539</td>\n",
              "      <td>65.3567</td>\n",
              "      <td>8565.8778</td>\n",
              "      <td>289.1927</td>\n",
              "      <td>0.0000</td>\n",
              "      <td>0.0</td>\n",
              "      <td>690.7305</td>\n",
              "      <td>...</td>\n",
              "      <td>400.6835</td>\n",
              "      <td>1269.1158</td>\n",
              "      <td>95.6856</td>\n",
              "      <td>645.8778</td>\n",
              "      <td>1463.9043</td>\n",
              "      <td>1211.8753</td>\n",
              "      <td>550.6194</td>\n",
              "      <td>32.4648</td>\n",
              "      <td>0.0000</td>\n",
              "      <td>0</td>\n",
              "    </tr>\n",
              "    <tr>\n",
              "      <th>536</th>\n",
              "      <td>66.2362</td>\n",
              "      <td>0.0000</td>\n",
              "      <td>13.0130</td>\n",
              "      <td>126.2062</td>\n",
              "      <td>68.0681</td>\n",
              "      <td>23998.2482</td>\n",
              "      <td>997.4975</td>\n",
              "      <td>0.0000</td>\n",
              "      <td>0.0</td>\n",
              "      <td>664.6647</td>\n",
              "      <td>...</td>\n",
              "      <td>462.9630</td>\n",
              "      <td>1486.4865</td>\n",
              "      <td>75.0751</td>\n",
              "      <td>1006.0060</td>\n",
              "      <td>4285.7858</td>\n",
              "      <td>1448.4484</td>\n",
              "      <td>607.1071</td>\n",
              "      <td>56.5566</td>\n",
              "      <td>0.0000</td>\n",
              "      <td>0</td>\n",
              "    </tr>\n",
              "    <tr>\n",
              "      <th>537</th>\n",
              "      <td>15.4093</td>\n",
              "      <td>0.0000</td>\n",
              "      <td>0.0000</td>\n",
              "      <td>131.9862</td>\n",
              "      <td>17.4639</td>\n",
              "      <td>14974.4153</td>\n",
              "      <td>380.0973</td>\n",
              "      <td>0.0000</td>\n",
              "      <td>0.0</td>\n",
              "      <td>831.0776</td>\n",
              "      <td>...</td>\n",
              "      <td>387.2883</td>\n",
              "      <td>939.9703</td>\n",
              "      <td>252.7133</td>\n",
              "      <td>1007.7714</td>\n",
              "      <td>2525.0787</td>\n",
              "      <td>773.5493</td>\n",
              "      <td>740.6761</td>\n",
              "      <td>12.3275</td>\n",
              "      <td>0.0000</td>\n",
              "      <td>0</td>\n",
              "    </tr>\n",
              "    <tr>\n",
              "      <th>538</th>\n",
              "      <td>31.1257</td>\n",
              "      <td>0.0000</td>\n",
              "      <td>0.0000</td>\n",
              "      <td>353.2561</td>\n",
              "      <td>31.8174</td>\n",
              "      <td>5047.7607</td>\n",
              "      <td>454.4354</td>\n",
              "      <td>0.0000</td>\n",
              "      <td>0.0</td>\n",
              "      <td>842.4693</td>\n",
              "      <td>...</td>\n",
              "      <td>320.2490</td>\n",
              "      <td>1101.8503</td>\n",
              "      <td>142.4866</td>\n",
              "      <td>805.1185</td>\n",
              "      <td>1455.3000</td>\n",
              "      <td>1340.4807</td>\n",
              "      <td>605.2222</td>\n",
              "      <td>687.5324</td>\n",
              "      <td>0.0000</td>\n",
              "      <td>0</td>\n",
              "    </tr>\n",
              "    <tr>\n",
              "      <th>539</th>\n",
              "      <td>49.8764</td>\n",
              "      <td>89.4273</td>\n",
              "      <td>14.2783</td>\n",
              "      <td>116.9694</td>\n",
              "      <td>60.1192</td>\n",
              "      <td>14437.1491</td>\n",
              "      <td>459.9118</td>\n",
              "      <td>0.0000</td>\n",
              "      <td>0.0</td>\n",
              "      <td>716.9213</td>\n",
              "      <td>...</td>\n",
              "      <td>286.3176</td>\n",
              "      <td>1200.1293</td>\n",
              "      <td>113.4750</td>\n",
              "      <td>711.6609</td>\n",
              "      <td>4894.4533</td>\n",
              "      <td>598.1859</td>\n",
              "      <td>518.5280</td>\n",
              "      <td>45.0894</td>\n",
              "      <td>0.0000</td>\n",
              "      <td>0</td>\n",
              "    </tr>\n",
              "  </tbody>\n",
              "</table>\n",
              "<p>540 rows × 20502 columns</p>\n",
              "</div>\n",
              "    <div class=\"colab-df-buttons\">\n",
              "\n",
              "  <div class=\"colab-df-container\">\n",
              "    <button class=\"colab-df-convert\" onclick=\"convertToInteractive('df-b12be817-623c-4031-88eb-ba722a129fe1')\"\n",
              "            title=\"Convert this dataframe to an interactive table.\"\n",
              "            style=\"display:none;\">\n",
              "\n",
              "  <svg xmlns=\"http://www.w3.org/2000/svg\" height=\"24px\" viewBox=\"0 -960 960 960\">\n",
              "    <path d=\"M120-120v-720h720v720H120Zm60-500h600v-160H180v160Zm220 220h160v-160H400v160Zm0 220h160v-160H400v160ZM180-400h160v-160H180v160Zm440 0h160v-160H620v160ZM180-180h160v-160H180v160Zm440 0h160v-160H620v160Z\"/>\n",
              "  </svg>\n",
              "    </button>\n",
              "\n",
              "  <style>\n",
              "    .colab-df-container {\n",
              "      display:flex;\n",
              "      gap: 12px;\n",
              "    }\n",
              "\n",
              "    .colab-df-convert {\n",
              "      background-color: #E8F0FE;\n",
              "      border: none;\n",
              "      border-radius: 50%;\n",
              "      cursor: pointer;\n",
              "      display: none;\n",
              "      fill: #1967D2;\n",
              "      height: 32px;\n",
              "      padding: 0 0 0 0;\n",
              "      width: 32px;\n",
              "    }\n",
              "\n",
              "    .colab-df-convert:hover {\n",
              "      background-color: #E2EBFA;\n",
              "      box-shadow: 0px 1px 2px rgba(60, 64, 67, 0.3), 0px 1px 3px 1px rgba(60, 64, 67, 0.15);\n",
              "      fill: #174EA6;\n",
              "    }\n",
              "\n",
              "    .colab-df-buttons div {\n",
              "      margin-bottom: 4px;\n",
              "    }\n",
              "\n",
              "    [theme=dark] .colab-df-convert {\n",
              "      background-color: #3B4455;\n",
              "      fill: #D2E3FC;\n",
              "    }\n",
              "\n",
              "    [theme=dark] .colab-df-convert:hover {\n",
              "      background-color: #434B5C;\n",
              "      box-shadow: 0px 1px 3px 1px rgba(0, 0, 0, 0.15);\n",
              "      filter: drop-shadow(0px 1px 2px rgba(0, 0, 0, 0.3));\n",
              "      fill: #FFFFFF;\n",
              "    }\n",
              "  </style>\n",
              "\n",
              "    <script>\n",
              "      const buttonEl =\n",
              "        document.querySelector('#df-b12be817-623c-4031-88eb-ba722a129fe1 button.colab-df-convert');\n",
              "      buttonEl.style.display =\n",
              "        google.colab.kernel.accessAllowed ? 'block' : 'none';\n",
              "\n",
              "      async function convertToInteractive(key) {\n",
              "        const element = document.querySelector('#df-b12be817-623c-4031-88eb-ba722a129fe1');\n",
              "        const dataTable =\n",
              "          await google.colab.kernel.invokeFunction('convertToInteractive',\n",
              "                                                    [key], {});\n",
              "        if (!dataTable) return;\n",
              "\n",
              "        const docLinkHtml = 'Like what you see? Visit the ' +\n",
              "          '<a target=\"_blank\" href=https://colab.research.google.com/notebooks/data_table.ipynb>data table notebook</a>'\n",
              "          + ' to learn more about interactive tables.';\n",
              "        element.innerHTML = '';\n",
              "        dataTable['output_type'] = 'display_data';\n",
              "        await google.colab.output.renderOutput(dataTable, element);\n",
              "        const docLink = document.createElement('div');\n",
              "        docLink.innerHTML = docLinkHtml;\n",
              "        element.appendChild(docLink);\n",
              "      }\n",
              "    </script>\n",
              "  </div>\n",
              "\n",
              "\n",
              "    <div id=\"df-9ef7fe97-6a37-4112-b83e-cf8949808536\">\n",
              "      <button class=\"colab-df-quickchart\" onclick=\"quickchart('df-9ef7fe97-6a37-4112-b83e-cf8949808536')\"\n",
              "                title=\"Suggest charts\"\n",
              "                style=\"display:none;\">\n",
              "\n",
              "<svg xmlns=\"http://www.w3.org/2000/svg\" height=\"24px\"viewBox=\"0 0 24 24\"\n",
              "     width=\"24px\">\n",
              "    <g>\n",
              "        <path d=\"M19 3H5c-1.1 0-2 .9-2 2v14c0 1.1.9 2 2 2h14c1.1 0 2-.9 2-2V5c0-1.1-.9-2-2-2zM9 17H7v-7h2v7zm4 0h-2V7h2v10zm4 0h-2v-4h2v4z\"/>\n",
              "    </g>\n",
              "</svg>\n",
              "      </button>\n",
              "\n",
              "<style>\n",
              "  .colab-df-quickchart {\n",
              "      --bg-color: #E8F0FE;\n",
              "      --fill-color: #1967D2;\n",
              "      --hover-bg-color: #E2EBFA;\n",
              "      --hover-fill-color: #174EA6;\n",
              "      --disabled-fill-color: #AAA;\n",
              "      --disabled-bg-color: #DDD;\n",
              "  }\n",
              "\n",
              "  [theme=dark] .colab-df-quickchart {\n",
              "      --bg-color: #3B4455;\n",
              "      --fill-color: #D2E3FC;\n",
              "      --hover-bg-color: #434B5C;\n",
              "      --hover-fill-color: #FFFFFF;\n",
              "      --disabled-bg-color: #3B4455;\n",
              "      --disabled-fill-color: #666;\n",
              "  }\n",
              "\n",
              "  .colab-df-quickchart {\n",
              "    background-color: var(--bg-color);\n",
              "    border: none;\n",
              "    border-radius: 50%;\n",
              "    cursor: pointer;\n",
              "    display: none;\n",
              "    fill: var(--fill-color);\n",
              "    height: 32px;\n",
              "    padding: 0;\n",
              "    width: 32px;\n",
              "  }\n",
              "\n",
              "  .colab-df-quickchart:hover {\n",
              "    background-color: var(--hover-bg-color);\n",
              "    box-shadow: 0 1px 2px rgba(60, 64, 67, 0.3), 0 1px 3px 1px rgba(60, 64, 67, 0.15);\n",
              "    fill: var(--button-hover-fill-color);\n",
              "  }\n",
              "\n",
              "  .colab-df-quickchart-complete:disabled,\n",
              "  .colab-df-quickchart-complete:disabled:hover {\n",
              "    background-color: var(--disabled-bg-color);\n",
              "    fill: var(--disabled-fill-color);\n",
              "    box-shadow: none;\n",
              "  }\n",
              "\n",
              "  .colab-df-spinner {\n",
              "    border: 2px solid var(--fill-color);\n",
              "    border-color: transparent;\n",
              "    border-bottom-color: var(--fill-color);\n",
              "    animation:\n",
              "      spin 1s steps(1) infinite;\n",
              "  }\n",
              "\n",
              "  @keyframes spin {\n",
              "    0% {\n",
              "      border-color: transparent;\n",
              "      border-bottom-color: var(--fill-color);\n",
              "      border-left-color: var(--fill-color);\n",
              "    }\n",
              "    20% {\n",
              "      border-color: transparent;\n",
              "      border-left-color: var(--fill-color);\n",
              "      border-top-color: var(--fill-color);\n",
              "    }\n",
              "    30% {\n",
              "      border-color: transparent;\n",
              "      border-left-color: var(--fill-color);\n",
              "      border-top-color: var(--fill-color);\n",
              "      border-right-color: var(--fill-color);\n",
              "    }\n",
              "    40% {\n",
              "      border-color: transparent;\n",
              "      border-right-color: var(--fill-color);\n",
              "      border-top-color: var(--fill-color);\n",
              "    }\n",
              "    60% {\n",
              "      border-color: transparent;\n",
              "      border-right-color: var(--fill-color);\n",
              "    }\n",
              "    80% {\n",
              "      border-color: transparent;\n",
              "      border-right-color: var(--fill-color);\n",
              "      border-bottom-color: var(--fill-color);\n",
              "    }\n",
              "    90% {\n",
              "      border-color: transparent;\n",
              "      border-bottom-color: var(--fill-color);\n",
              "    }\n",
              "  }\n",
              "</style>\n",
              "\n",
              "      <script>\n",
              "        async function quickchart(key) {\n",
              "          const quickchartButtonEl =\n",
              "            document.querySelector('#' + key + ' button');\n",
              "          quickchartButtonEl.disabled = true;  // To prevent multiple clicks.\n",
              "          quickchartButtonEl.classList.add('colab-df-spinner');\n",
              "          try {\n",
              "            const charts = await google.colab.kernel.invokeFunction(\n",
              "                'suggestCharts', [key], {});\n",
              "          } catch (error) {\n",
              "            console.error('Error during call to suggestCharts:', error);\n",
              "          }\n",
              "          quickchartButtonEl.classList.remove('colab-df-spinner');\n",
              "          quickchartButtonEl.classList.add('colab-df-quickchart-complete');\n",
              "        }\n",
              "        (() => {\n",
              "          let quickchartButtonEl =\n",
              "            document.querySelector('#df-9ef7fe97-6a37-4112-b83e-cf8949808536 button');\n",
              "          quickchartButtonEl.style.display =\n",
              "            google.colab.kernel.accessAllowed ? 'block' : 'none';\n",
              "        })();\n",
              "      </script>\n",
              "    </div>\n",
              "    </div>\n",
              "  </div>\n"
            ],
            "application/vnd.google.colaboratory.intrinsic+json": {
              "type": "dataframe",
              "variable_name": "data_"
            }
          },
          "metadata": {},
          "execution_count": 80
        }
      ]
    },
    {
      "cell_type": "code",
      "source": [
        "X,y = data_.drop(columns = ['patient.biochemical_recurrence']), data_['patient.biochemical_recurrence']\n",
        "\n",
        "rus = RandomUnderSampler(random_state=42)\n",
        "X, y = rus.fit_resample(X, y)\n",
        "\n",
        "#разбиваем на тренировочную и валидационную\n",
        "X_train, X_val, y_train, y_val = train_test_split(X, y, test_size=0.3, random_state=42)"
      ],
      "metadata": {
        "id": "Oz120t50DPME"
      },
      "execution_count": 83,
      "outputs": []
    },
    {
      "cell_type": "markdown",
      "source": [
        "## XGBClassifier"
      ],
      "metadata": {
        "id": "ri9pMBzfHKM2"
      }
    },
    {
      "cell_type": "code",
      "source": [
        "model_XGBCls = XGBClassifier(n_estimators=100, early_stopping_rounds=25)\n",
        "model_XGBCls.fit(X_train, y_train, eval_set=[(X_val, y_val)])\n",
        "y_pred = model_XGBCls.predict(X_val)"
      ],
      "metadata": {
        "colab": {
          "base_uri": "https://localhost:8080/"
        },
        "id": "v05IctLrDnhe",
        "outputId": "72844241-aef8-451b-c757-1fbae9f143ed"
      },
      "execution_count": 109,
      "outputs": [
        {
          "output_type": "stream",
          "name": "stdout",
          "text": [
            "[0]\tvalidation_0-logloss:0.68876\n",
            "[1]\tvalidation_0-logloss:0.67233\n",
            "[2]\tvalidation_0-logloss:0.72661\n",
            "[3]\tvalidation_0-logloss:0.73311\n",
            "[4]\tvalidation_0-logloss:0.72638\n",
            "[5]\tvalidation_0-logloss:0.70299\n",
            "[6]\tvalidation_0-logloss:0.72288\n",
            "[7]\tvalidation_0-logloss:0.73955\n",
            "[8]\tvalidation_0-logloss:0.74924\n",
            "[9]\tvalidation_0-logloss:0.73681\n",
            "[10]\tvalidation_0-logloss:0.72577\n",
            "[11]\tvalidation_0-logloss:0.71777\n",
            "[12]\tvalidation_0-logloss:0.72698\n",
            "[13]\tvalidation_0-logloss:0.72532\n",
            "[14]\tvalidation_0-logloss:0.72045\n",
            "[15]\tvalidation_0-logloss:0.71735\n",
            "[16]\tvalidation_0-logloss:0.71859\n",
            "[17]\tvalidation_0-logloss:0.72026\n",
            "[18]\tvalidation_0-logloss:0.72259\n",
            "[19]\tvalidation_0-logloss:0.72136\n",
            "[20]\tvalidation_0-logloss:0.73695\n",
            "[21]\tvalidation_0-logloss:0.73175\n",
            "[22]\tvalidation_0-logloss:0.73164\n",
            "[23]\tvalidation_0-logloss:0.72432\n",
            "[24]\tvalidation_0-logloss:0.73337\n",
            "[25]\tvalidation_0-logloss:0.73804\n",
            "[26]\tvalidation_0-logloss:0.74492\n"
          ]
        }
      ]
    },
    {
      "cell_type": "code",
      "source": [
        "print(f\"Accuracy = {accuracy_score(y_val, y_pred)}\")\n",
        "print(f\"Precision = {precision_score(y_val, y_pred)}\")\n",
        "print(f\"Recall = {recall_score(y_val, y_pred)}\")\n",
        "print(f\"F1 Score = {f1_score(y_val, y_pred)}\")\n",
        "print(f\"specificity score = {specificity_score(y_val, y_pred)}\")"
      ],
      "metadata": {
        "colab": {
          "base_uri": "https://localhost:8080/"
        },
        "id": "x5Ay3T5-EDJw",
        "outputId": "70fdc376-3888-420a-b25f-e3599d5284a6"
      },
      "execution_count": 110,
      "outputs": [
        {
          "output_type": "stream",
          "name": "stdout",
          "text": [
            "Accuracy = 0.6756756756756757\n",
            "Precision = 0.6086956521739131\n",
            "Recall = 0.8235294117647058\n",
            "F1 Score = 0.7\n",
            "specificity score = 0.55\n"
          ]
        }
      ]
    },
    {
      "cell_type": "code",
      "source": [
        "importance = model_XGBCls.get_booster().get_score(importance_type='gain')\n",
        "\n",
        "#если importance пуст, используем стандартный feature_importances_\n",
        "if not importance:\n",
        "    importance = dict(zip(data_.columns.drop('patient.biochemical_recurrence'),\n",
        "                         model_XGBCls.feature_importances_))\n",
        "\n",
        "#сортировка по убыванию важности\n",
        "sorted_importance = {k: v for k, v in sorted(importance.items(), key=lambda item: item[1], reverse=True)}\n",
        "\n",
        "#фильтрация\n",
        "positive_importance = {k: v for k, v in sorted_importance.items() if v > 0}\n",
        "\n",
        "features = list(positive_importance.keys())\n",
        "values = list(positive_importance.values())\n",
        "\n",
        "\n",
        "fig = go.Figure()\n",
        "fig.add_trace(go.Bar(\n",
        "    x=features,\n",
        "    y=values,\n",
        "    marker_color='skyblue'\n",
        "))\n",
        "\n",
        "fig.update_layout(\n",
        "    title='Важность признаков (XGBoost, gain)',\n",
        "    xaxis_title='Признаки',\n",
        "    yaxis_title='Важность (gain)',\n",
        "    xaxis_tickangle=-45,\n",
        "    height=600,\n",
        "    width=1000\n",
        ")\n",
        "\n",
        "fig.show()"
      ],
      "metadata": {
        "colab": {
          "base_uri": "https://localhost:8080/",
          "height": 617
        },
        "id": "7CFXCFyPFR51",
        "outputId": "5e05c055-e557-4c21-cd17-7c0205644378"
      },
      "execution_count": 111,
      "outputs": [
        {
          "output_type": "display_data",
          "data": {
            "text/html": [
              "<html>\n",
              "<head><meta charset=\"utf-8\" /></head>\n",
              "<body>\n",
              "    <div>            <script src=\"https://cdnjs.cloudflare.com/ajax/libs/mathjax/2.7.5/MathJax.js?config=TeX-AMS-MML_SVG\"></script><script type=\"text/javascript\">if (window.MathJax && window.MathJax.Hub && window.MathJax.Hub.Config) {window.MathJax.Hub.Config({SVG: {font: \"STIX-Web\"}});}</script>                <script type=\"text/javascript\">window.PlotlyConfig = {MathJaxConfig: 'local'};</script>\n",
              "        <script charset=\"utf-8\" src=\"https://cdn.plot.ly/plotly-2.35.2.min.js\"></script>                <div id=\"218313be-b303-439f-9915-2553662f4f3f\" class=\"plotly-graph-div\" style=\"height:600px; width:1000px;\"></div>            <script type=\"text/javascript\">                                    window.PLOTLYENV=window.PLOTLYENV || {};                                    if (document.getElementById(\"218313be-b303-439f-9915-2553662f4f3f\")) {                    Plotly.newPlot(                        \"218313be-b303-439f-9915-2553662f4f3f\",                        [{\"marker\":{\"color\":\"skyblue\"},\"x\":[\"PGLYRP2\",\"SHISA5\",\"KIAA0562\",\"ANXA10\",\"NOX4\",\"FOXD4L6\",\"GDF9\",\"C6orf97\",\"SETDB1\",\"FBP1\",\"FLJ44635\",\"LONRF1\",\"ANKLE1\",\"TBC1D9B\",\"ELAVL3\",\"MAPK15\",\"SYCP2\",\"TCF7\",\"ABI3\",\"LGALS2\",\"KIF19\",\"STS\",\"FOSL1\",\"BOP1\",\"PITRM1\",\"FAM106C\",\"ABCB11\",\"SAPS3\",\"SUSD2\",\"TPTE2P3\",\"HAT1\",\"DIRAS3\",\"FOXN4\",\"AGBL4\",\"SPPL2A\",\"CCDC34\",\"UGT2B11\",\"C14orf19\",\"NMNAT2\",\"HAMP\",\"CCL19\",\"FAM82B\",\"DPY19L2P1\",\"SUMF2\",\"OLA1\",\"ICAM4\",\"SAMD3\",\"ANO2\",\"CALM2\",\"ELOVL4\",\"DHRS12\",\"GUSBL2\",\"TRAPPC2\",\"INHBB\",\"SLC16A13\",\"FGFR3\",\"AHI1\",\"MAP4K4\",\"PIM2\",\"KCNN4\",\"CYB5B\",\"BTN2A2\"],\"y\":[14.30990982055664,12.422481536865234,11.004274368286133,10.318748474121094,8.8435697555542,6.660566329956055,6.523218154907227,6.173889636993408,5.285774230957031,5.2455644607543945,4.466713905334473,4.140183925628662,4.008664608001709,3.976919174194336,3.6768646240234375,3.40277099609375,3.1886343955993652,2.3670499324798584,2.097146987915039,2.0088534355163574,1.9666380882263184,1.9541354179382324,1.8994163274765015,1.8968610763549805,1.772943139076233,1.7047361135482788,1.6595622301101685,1.580462098121643,1.4739056825637817,1.2127662897109985,1.1846643686294556,1.1078705787658691,1.0465736389160156,0.9698276519775391,0.9018429517745972,0.8972615003585815,0.8633348941802979,0.8551837205886841,0.781440019607544,0.7642123699188232,0.7582736015319824,0.7559503316879272,0.633546769618988,0.6332287788391113,0.5285598039627075,0.4643125832080841,0.4569193720817566,0.4345000386238098,0.38976961374282837,0.36214855313301086,0.33680856227874756,0.3352702558040619,0.32179099321365356,0.3089533746242523,0.30323562026023865,0.2705274820327759,0.2681683897972107,0.2670084238052368,0.23029524087905884,0.11153936386108398,0.025461912155151367,0.0047681331634521484],\"type\":\"bar\"}],                        {\"template\":{\"data\":{\"histogram2dcontour\":[{\"type\":\"histogram2dcontour\",\"colorbar\":{\"outlinewidth\":0,\"ticks\":\"\"},\"colorscale\":[[0.0,\"#0d0887\"],[0.1111111111111111,\"#46039f\"],[0.2222222222222222,\"#7201a8\"],[0.3333333333333333,\"#9c179e\"],[0.4444444444444444,\"#bd3786\"],[0.5555555555555556,\"#d8576b\"],[0.6666666666666666,\"#ed7953\"],[0.7777777777777778,\"#fb9f3a\"],[0.8888888888888888,\"#fdca26\"],[1.0,\"#f0f921\"]]}],\"choropleth\":[{\"type\":\"choropleth\",\"colorbar\":{\"outlinewidth\":0,\"ticks\":\"\"}}],\"histogram2d\":[{\"type\":\"histogram2d\",\"colorbar\":{\"outlinewidth\":0,\"ticks\":\"\"},\"colorscale\":[[0.0,\"#0d0887\"],[0.1111111111111111,\"#46039f\"],[0.2222222222222222,\"#7201a8\"],[0.3333333333333333,\"#9c179e\"],[0.4444444444444444,\"#bd3786\"],[0.5555555555555556,\"#d8576b\"],[0.6666666666666666,\"#ed7953\"],[0.7777777777777778,\"#fb9f3a\"],[0.8888888888888888,\"#fdca26\"],[1.0,\"#f0f921\"]]}],\"heatmap\":[{\"type\":\"heatmap\",\"colorbar\":{\"outlinewidth\":0,\"ticks\":\"\"},\"colorscale\":[[0.0,\"#0d0887\"],[0.1111111111111111,\"#46039f\"],[0.2222222222222222,\"#7201a8\"],[0.3333333333333333,\"#9c179e\"],[0.4444444444444444,\"#bd3786\"],[0.5555555555555556,\"#d8576b\"],[0.6666666666666666,\"#ed7953\"],[0.7777777777777778,\"#fb9f3a\"],[0.8888888888888888,\"#fdca26\"],[1.0,\"#f0f921\"]]}],\"heatmapgl\":[{\"type\":\"heatmapgl\",\"colorbar\":{\"outlinewidth\":0,\"ticks\":\"\"},\"colorscale\":[[0.0,\"#0d0887\"],[0.1111111111111111,\"#46039f\"],[0.2222222222222222,\"#7201a8\"],[0.3333333333333333,\"#9c179e\"],[0.4444444444444444,\"#bd3786\"],[0.5555555555555556,\"#d8576b\"],[0.6666666666666666,\"#ed7953\"],[0.7777777777777778,\"#fb9f3a\"],[0.8888888888888888,\"#fdca26\"],[1.0,\"#f0f921\"]]}],\"contourcarpet\":[{\"type\":\"contourcarpet\",\"colorbar\":{\"outlinewidth\":0,\"ticks\":\"\"}}],\"contour\":[{\"type\":\"contour\",\"colorbar\":{\"outlinewidth\":0,\"ticks\":\"\"},\"colorscale\":[[0.0,\"#0d0887\"],[0.1111111111111111,\"#46039f\"],[0.2222222222222222,\"#7201a8\"],[0.3333333333333333,\"#9c179e\"],[0.4444444444444444,\"#bd3786\"],[0.5555555555555556,\"#d8576b\"],[0.6666666666666666,\"#ed7953\"],[0.7777777777777778,\"#fb9f3a\"],[0.8888888888888888,\"#fdca26\"],[1.0,\"#f0f921\"]]}],\"surface\":[{\"type\":\"surface\",\"colorbar\":{\"outlinewidth\":0,\"ticks\":\"\"},\"colorscale\":[[0.0,\"#0d0887\"],[0.1111111111111111,\"#46039f\"],[0.2222222222222222,\"#7201a8\"],[0.3333333333333333,\"#9c179e\"],[0.4444444444444444,\"#bd3786\"],[0.5555555555555556,\"#d8576b\"],[0.6666666666666666,\"#ed7953\"],[0.7777777777777778,\"#fb9f3a\"],[0.8888888888888888,\"#fdca26\"],[1.0,\"#f0f921\"]]}],\"mesh3d\":[{\"type\":\"mesh3d\",\"colorbar\":{\"outlinewidth\":0,\"ticks\":\"\"}}],\"scatter\":[{\"fillpattern\":{\"fillmode\":\"overlay\",\"size\":10,\"solidity\":0.2},\"type\":\"scatter\"}],\"parcoords\":[{\"type\":\"parcoords\",\"line\":{\"colorbar\":{\"outlinewidth\":0,\"ticks\":\"\"}}}],\"scatterpolargl\":[{\"type\":\"scatterpolargl\",\"marker\":{\"colorbar\":{\"outlinewidth\":0,\"ticks\":\"\"}}}],\"bar\":[{\"error_x\":{\"color\":\"#2a3f5f\"},\"error_y\":{\"color\":\"#2a3f5f\"},\"marker\":{\"line\":{\"color\":\"#E5ECF6\",\"width\":0.5},\"pattern\":{\"fillmode\":\"overlay\",\"size\":10,\"solidity\":0.2}},\"type\":\"bar\"}],\"scattergeo\":[{\"type\":\"scattergeo\",\"marker\":{\"colorbar\":{\"outlinewidth\":0,\"ticks\":\"\"}}}],\"scatterpolar\":[{\"type\":\"scatterpolar\",\"marker\":{\"colorbar\":{\"outlinewidth\":0,\"ticks\":\"\"}}}],\"histogram\":[{\"marker\":{\"pattern\":{\"fillmode\":\"overlay\",\"size\":10,\"solidity\":0.2}},\"type\":\"histogram\"}],\"scattergl\":[{\"type\":\"scattergl\",\"marker\":{\"colorbar\":{\"outlinewidth\":0,\"ticks\":\"\"}}}],\"scatter3d\":[{\"type\":\"scatter3d\",\"line\":{\"colorbar\":{\"outlinewidth\":0,\"ticks\":\"\"}},\"marker\":{\"colorbar\":{\"outlinewidth\":0,\"ticks\":\"\"}}}],\"scattermapbox\":[{\"type\":\"scattermapbox\",\"marker\":{\"colorbar\":{\"outlinewidth\":0,\"ticks\":\"\"}}}],\"scatterternary\":[{\"type\":\"scatterternary\",\"marker\":{\"colorbar\":{\"outlinewidth\":0,\"ticks\":\"\"}}}],\"scattercarpet\":[{\"type\":\"scattercarpet\",\"marker\":{\"colorbar\":{\"outlinewidth\":0,\"ticks\":\"\"}}}],\"carpet\":[{\"aaxis\":{\"endlinecolor\":\"#2a3f5f\",\"gridcolor\":\"white\",\"linecolor\":\"white\",\"minorgridcolor\":\"white\",\"startlinecolor\":\"#2a3f5f\"},\"baxis\":{\"endlinecolor\":\"#2a3f5f\",\"gridcolor\":\"white\",\"linecolor\":\"white\",\"minorgridcolor\":\"white\",\"startlinecolor\":\"#2a3f5f\"},\"type\":\"carpet\"}],\"table\":[{\"cells\":{\"fill\":{\"color\":\"#EBF0F8\"},\"line\":{\"color\":\"white\"}},\"header\":{\"fill\":{\"color\":\"#C8D4E3\"},\"line\":{\"color\":\"white\"}},\"type\":\"table\"}],\"barpolar\":[{\"marker\":{\"line\":{\"color\":\"#E5ECF6\",\"width\":0.5},\"pattern\":{\"fillmode\":\"overlay\",\"size\":10,\"solidity\":0.2}},\"type\":\"barpolar\"}],\"pie\":[{\"automargin\":true,\"type\":\"pie\"}]},\"layout\":{\"autotypenumbers\":\"strict\",\"colorway\":[\"#636efa\",\"#EF553B\",\"#00cc96\",\"#ab63fa\",\"#FFA15A\",\"#19d3f3\",\"#FF6692\",\"#B6E880\",\"#FF97FF\",\"#FECB52\"],\"font\":{\"color\":\"#2a3f5f\"},\"hovermode\":\"closest\",\"hoverlabel\":{\"align\":\"left\"},\"paper_bgcolor\":\"white\",\"plot_bgcolor\":\"#E5ECF6\",\"polar\":{\"bgcolor\":\"#E5ECF6\",\"angularaxis\":{\"gridcolor\":\"white\",\"linecolor\":\"white\",\"ticks\":\"\"},\"radialaxis\":{\"gridcolor\":\"white\",\"linecolor\":\"white\",\"ticks\":\"\"}},\"ternary\":{\"bgcolor\":\"#E5ECF6\",\"aaxis\":{\"gridcolor\":\"white\",\"linecolor\":\"white\",\"ticks\":\"\"},\"baxis\":{\"gridcolor\":\"white\",\"linecolor\":\"white\",\"ticks\":\"\"},\"caxis\":{\"gridcolor\":\"white\",\"linecolor\":\"white\",\"ticks\":\"\"}},\"coloraxis\":{\"colorbar\":{\"outlinewidth\":0,\"ticks\":\"\"}},\"colorscale\":{\"sequential\":[[0.0,\"#0d0887\"],[0.1111111111111111,\"#46039f\"],[0.2222222222222222,\"#7201a8\"],[0.3333333333333333,\"#9c179e\"],[0.4444444444444444,\"#bd3786\"],[0.5555555555555556,\"#d8576b\"],[0.6666666666666666,\"#ed7953\"],[0.7777777777777778,\"#fb9f3a\"],[0.8888888888888888,\"#fdca26\"],[1.0,\"#f0f921\"]],\"sequentialminus\":[[0.0,\"#0d0887\"],[0.1111111111111111,\"#46039f\"],[0.2222222222222222,\"#7201a8\"],[0.3333333333333333,\"#9c179e\"],[0.4444444444444444,\"#bd3786\"],[0.5555555555555556,\"#d8576b\"],[0.6666666666666666,\"#ed7953\"],[0.7777777777777778,\"#fb9f3a\"],[0.8888888888888888,\"#fdca26\"],[1.0,\"#f0f921\"]],\"diverging\":[[0,\"#8e0152\"],[0.1,\"#c51b7d\"],[0.2,\"#de77ae\"],[0.3,\"#f1b6da\"],[0.4,\"#fde0ef\"],[0.5,\"#f7f7f7\"],[0.6,\"#e6f5d0\"],[0.7,\"#b8e186\"],[0.8,\"#7fbc41\"],[0.9,\"#4d9221\"],[1,\"#276419\"]]},\"xaxis\":{\"gridcolor\":\"white\",\"linecolor\":\"white\",\"ticks\":\"\",\"title\":{\"standoff\":15},\"zerolinecolor\":\"white\",\"automargin\":true,\"zerolinewidth\":2},\"yaxis\":{\"gridcolor\":\"white\",\"linecolor\":\"white\",\"ticks\":\"\",\"title\":{\"standoff\":15},\"zerolinecolor\":\"white\",\"automargin\":true,\"zerolinewidth\":2},\"scene\":{\"xaxis\":{\"backgroundcolor\":\"#E5ECF6\",\"gridcolor\":\"white\",\"linecolor\":\"white\",\"showbackground\":true,\"ticks\":\"\",\"zerolinecolor\":\"white\",\"gridwidth\":2},\"yaxis\":{\"backgroundcolor\":\"#E5ECF6\",\"gridcolor\":\"white\",\"linecolor\":\"white\",\"showbackground\":true,\"ticks\":\"\",\"zerolinecolor\":\"white\",\"gridwidth\":2},\"zaxis\":{\"backgroundcolor\":\"#E5ECF6\",\"gridcolor\":\"white\",\"linecolor\":\"white\",\"showbackground\":true,\"ticks\":\"\",\"zerolinecolor\":\"white\",\"gridwidth\":2}},\"shapedefaults\":{\"line\":{\"color\":\"#2a3f5f\"}},\"annotationdefaults\":{\"arrowcolor\":\"#2a3f5f\",\"arrowhead\":0,\"arrowwidth\":1},\"geo\":{\"bgcolor\":\"white\",\"landcolor\":\"#E5ECF6\",\"subunitcolor\":\"white\",\"showland\":true,\"showlakes\":true,\"lakecolor\":\"white\"},\"title\":{\"x\":0.05},\"mapbox\":{\"style\":\"light\"}}},\"xaxis\":{\"title\":{\"text\":\"Признаки\"},\"tickangle\":-45},\"title\":{\"text\":\"Важность признаков (XGBoost, gain)\"},\"yaxis\":{\"title\":{\"text\":\"Важность (gain)\"}},\"height\":600,\"width\":1000},                        {\"responsive\": true}                    ).then(function(){\n",
              "                            \n",
              "var gd = document.getElementById('218313be-b303-439f-9915-2553662f4f3f');\n",
              "var x = new MutationObserver(function (mutations, observer) {{\n",
              "        var display = window.getComputedStyle(gd).display;\n",
              "        if (!display || display === 'none') {{\n",
              "            console.log([gd, 'removed!']);\n",
              "            Plotly.purge(gd);\n",
              "            observer.disconnect();\n",
              "        }}\n",
              "}});\n",
              "\n",
              "// Listen for the removal of the full notebook cells\n",
              "var notebookContainer = gd.closest('#notebook-container');\n",
              "if (notebookContainer) {{\n",
              "    x.observe(notebookContainer, {childList: true});\n",
              "}}\n",
              "\n",
              "// Listen for the clearing of the current output cell\n",
              "var outputEl = gd.closest('.output');\n",
              "if (outputEl) {{\n",
              "    x.observe(outputEl, {childList: true});\n",
              "}}\n",
              "\n",
              "                        })                };                            </script>        </div>\n",
              "</body>\n",
              "</html>"
            ]
          },
          "metadata": {}
        }
      ]
    },
    {
      "cell_type": "code",
      "source": [
        "top_positive_XGBClassifier = dict(list(positive_importance.items())[:15])"
      ],
      "metadata": {
        "id": "jRp7PFFDFklP"
      },
      "execution_count": 112,
      "outputs": []
    },
    {
      "cell_type": "code",
      "source": [
        "top_positive_XGBClassifier"
      ],
      "metadata": {
        "colab": {
          "base_uri": "https://localhost:8080/"
        },
        "id": "bS-WwpjRGQ7o",
        "outputId": "e014c8f5-b655-4870-94af-59cd8ff8ad80"
      },
      "execution_count": 113,
      "outputs": [
        {
          "output_type": "execute_result",
          "data": {
            "text/plain": [
              "{'PGLYRP2': 14.30990982055664,\n",
              " 'SHISA5': 12.422481536865234,\n",
              " 'KIAA0562': 11.004274368286133,\n",
              " 'ANXA10': 10.318748474121094,\n",
              " 'NOX4': 8.8435697555542,\n",
              " 'FOXD4L6': 6.660566329956055,\n",
              " 'GDF9': 6.523218154907227,\n",
              " 'C6orf97': 6.173889636993408,\n",
              " 'SETDB1': 5.285774230957031,\n",
              " 'FBP1': 5.2455644607543945,\n",
              " 'FLJ44635': 4.466713905334473,\n",
              " 'LONRF1': 4.140183925628662,\n",
              " 'ANKLE1': 4.008664608001709,\n",
              " 'TBC1D9B': 3.976919174194336,\n",
              " 'ELAVL3': 3.6768646240234375}"
            ]
          },
          "metadata": {},
          "execution_count": 113
        }
      ]
    },
    {
      "cell_type": "markdown",
      "source": [
        "## LGBMClassifier\n"
      ],
      "metadata": {
        "id": "m4KVaU_XHSL-"
      }
    },
    {
      "cell_type": "code",
      "source": [
        "LGBMCls = LGBMClassifier(n_estimators=100, early_stopping_rounds=25)\n",
        "LGBMCls.fit(X_train, y_train, eval_set=[(X_val, y_val)])\n",
        "y_pred = LGBMCls.predict(X_val)"
      ],
      "metadata": {
        "colab": {
          "base_uri": "https://localhost:8080/"
        },
        "id": "kmvg5th1HfZS",
        "outputId": "82b2abda-d144-4f62-89ac-27eb849c721d"
      },
      "execution_count": 104,
      "outputs": [
        {
          "output_type": "stream",
          "name": "stdout",
          "text": [
            "[LightGBM] [Warning] early_stopping_round is set=25, early_stopping_rounds=25 will be ignored. Current value: early_stopping_round=25\n",
            "[LightGBM] [Info] Number of positive: 44, number of negative: 41\n",
            "[LightGBM] [Info] Auto-choosing col-wise multi-threading, the overhead of testing was 0.056992 seconds.\n",
            "You can set `force_col_wise=true` to remove the overhead.\n",
            "[LightGBM] [Info] Total Bins 526580\n",
            "[LightGBM] [Info] Number of data points in the train set: 85, number of used features: 18497\n",
            "[LightGBM] [Warning] early_stopping_round is set=25, early_stopping_rounds=25 will be ignored. Current value: early_stopping_round=25\n",
            "[LightGBM] [Info] [binary:BoostFromScore]: pavg=0.517647 -> initscore=0.070618\n",
            "[LightGBM] [Info] Start training from score 0.070618\n",
            "[LightGBM] [Warning] No further splits with positive gain, best gain: -inf\n",
            "Training until validation scores don't improve for 25 rounds\n",
            "[LightGBM] [Warning] No further splits with positive gain, best gain: -inf\n",
            "[LightGBM] [Warning] No further splits with positive gain, best gain: -inf\n",
            "[LightGBM] [Warning] No further splits with positive gain, best gain: -inf\n",
            "[LightGBM] [Warning] No further splits with positive gain, best gain: -inf\n",
            "[LightGBM] [Warning] No further splits with positive gain, best gain: -inf\n",
            "[LightGBM] [Warning] No further splits with positive gain, best gain: -inf\n",
            "[LightGBM] [Warning] No further splits with positive gain, best gain: -inf\n",
            "[LightGBM] [Warning] No further splits with positive gain, best gain: -inf\n",
            "[LightGBM] [Warning] No further splits with positive gain, best gain: -inf\n",
            "[LightGBM] [Warning] No further splits with positive gain, best gain: -inf\n",
            "[LightGBM] [Warning] No further splits with positive gain, best gain: -inf\n",
            "[LightGBM] [Warning] No further splits with positive gain, best gain: -inf\n",
            "[LightGBM] [Warning] No further splits with positive gain, best gain: -inf\n",
            "[LightGBM] [Warning] No further splits with positive gain, best gain: -inf\n",
            "[LightGBM] [Warning] No further splits with positive gain, best gain: -inf\n",
            "[LightGBM] [Warning] No further splits with positive gain, best gain: -inf\n",
            "[LightGBM] [Warning] No further splits with positive gain, best gain: -inf\n",
            "[LightGBM] [Warning] No further splits with positive gain, best gain: -inf\n",
            "[LightGBM] [Warning] No further splits with positive gain, best gain: -inf\n",
            "[LightGBM] [Warning] No further splits with positive gain, best gain: -inf\n",
            "[LightGBM] [Warning] No further splits with positive gain, best gain: -inf\n",
            "[LightGBM] [Warning] No further splits with positive gain, best gain: -inf\n",
            "[LightGBM] [Warning] No further splits with positive gain, best gain: -inf\n",
            "[LightGBM] [Warning] No further splits with positive gain, best gain: -inf\n",
            "[LightGBM] [Warning] No further splits with positive gain, best gain: -inf\n",
            "[LightGBM] [Warning] No further splits with positive gain, best gain: -inf\n",
            "[LightGBM] [Warning] No further splits with positive gain, best gain: -inf\n",
            "[LightGBM] [Warning] No further splits with positive gain, best gain: -inf\n",
            "[LightGBM] [Warning] No further splits with positive gain, best gain: -inf\n",
            "[LightGBM] [Warning] No further splits with positive gain, best gain: -inf\n",
            "[LightGBM] [Warning] No further splits with positive gain, best gain: -inf\n",
            "[LightGBM] [Warning] No further splits with positive gain, best gain: -inf\n",
            "[LightGBM] [Warning] No further splits with positive gain, best gain: -inf\n",
            "[LightGBM] [Warning] No further splits with positive gain, best gain: -inf\n",
            "[LightGBM] [Warning] No further splits with positive gain, best gain: -inf\n",
            "[LightGBM] [Warning] No further splits with positive gain, best gain: -inf\n",
            "[LightGBM] [Warning] No further splits with positive gain, best gain: -inf\n",
            "[LightGBM] [Warning] No further splits with positive gain, best gain: -inf\n",
            "Early stopping, best iteration is:\n",
            "[14]\tvalid_0's binary_logloss: 0.631614\n"
          ]
        }
      ]
    },
    {
      "cell_type": "code",
      "source": [
        "print(f\"Accuracy = {accuracy_score(y_val, y_pred)}\")\n",
        "print(f\"Precision = {precision_score(y_val, y_pred)}\")\n",
        "print(f\"Recall = {recall_score(y_val, y_pred)}\")\n",
        "print(f\"F1 Score = {f1_score(y_val, y_pred)}\")\n",
        "print(f\"specificity score = {specificity_score(y_val, y_pred)}\")"
      ],
      "metadata": {
        "colab": {
          "base_uri": "https://localhost:8080/"
        },
        "id": "3FiuMWf6HnQt",
        "outputId": "3f425759-3777-4354-a192-b246c5bc0f7a"
      },
      "execution_count": 105,
      "outputs": [
        {
          "output_type": "stream",
          "name": "stdout",
          "text": [
            "Accuracy = 0.5945945945945946\n",
            "Precision = 0.5454545454545454\n",
            "Recall = 0.7058823529411765\n",
            "F1 Score = 0.6153846153846154\n",
            "specificity score = 0.5\n"
          ]
        }
      ]
    },
    {
      "cell_type": "code",
      "source": [
        "importance = LGBMCls.feature_importances_\n",
        "\n",
        "#создание словаря {признак: важность}\n",
        "feature_importance = dict(zip(\n",
        "    data_.columns.drop('patient.biochemical_recurrence'),\n",
        "    importance\n",
        "))\n",
        "\n",
        "#сортировка по убыванию важности\n",
        "sorted_importance = {k: v for k, v in sorted(\n",
        "    feature_importance.items(),\n",
        "    key=lambda item: item[1],\n",
        "    reverse=True\n",
        ")}\n",
        "\n",
        "#фильтрация\n",
        "positive_importance = {k: v for k, v in sorted_importance.items() if v > 0}\n",
        "\n",
        "features = list(positive_importance.keys())\n",
        "values = list(positive_importance.values())\n",
        "\n",
        "fig = go.Figure()\n",
        "fig.add_trace(go.Bar(\n",
        "    x=features,\n",
        "    y=values,\n",
        "    marker_color='skyblue'\n",
        "))\n",
        "\n",
        "fig.update_layout(\n",
        "    title='Важность признаков (LightGBM, gain)',\n",
        "    xaxis_title='Признаки',\n",
        "    yaxis_title='Важность (gain)',\n",
        "    xaxis_tickangle=-45,\n",
        "    height=600,\n",
        "    width=1000\n",
        ")\n",
        "\n",
        "fig.show()"
      ],
      "metadata": {
        "colab": {
          "base_uri": "https://localhost:8080/",
          "height": 617
        },
        "id": "M51CfK0PHxuV",
        "outputId": "719945ef-7abe-4b06-9300-2f63100e6080"
      },
      "execution_count": 106,
      "outputs": [
        {
          "output_type": "display_data",
          "data": {
            "text/html": [
              "<html>\n",
              "<head><meta charset=\"utf-8\" /></head>\n",
              "<body>\n",
              "    <div>            <script src=\"https://cdnjs.cloudflare.com/ajax/libs/mathjax/2.7.5/MathJax.js?config=TeX-AMS-MML_SVG\"></script><script type=\"text/javascript\">if (window.MathJax && window.MathJax.Hub && window.MathJax.Hub.Config) {window.MathJax.Hub.Config({SVG: {font: \"STIX-Web\"}});}</script>                <script type=\"text/javascript\">window.PlotlyConfig = {MathJaxConfig: 'local'};</script>\n",
              "        <script charset=\"utf-8\" src=\"https://cdn.plot.ly/plotly-2.35.2.min.js\"></script>                <div id=\"06dbc95d-7340-4dbf-867b-89667548a55b\" class=\"plotly-graph-div\" style=\"height:600px; width:1000px;\"></div>            <script type=\"text/javascript\">                                    window.PLOTLYENV=window.PLOTLYENV || {};                                    if (document.getElementById(\"06dbc95d-7340-4dbf-867b-89667548a55b\")) {                    Plotly.newPlot(                        \"06dbc95d-7340-4dbf-867b-89667548a55b\",                        [{\"marker\":{\"color\":\"skyblue\"},\"x\":[\"ANKLE1\",\"FAM106C\",\"DHRS12\",\"TRPA1\",\"ANO2\",\"ANXA10\",\"CDH5\",\"COMT\",\"DUSP4\",\"FAM107B\",\"FLJ44635\",\"IRAK1\",\"KIF19\",\"LOC389791\",\"LONRF1\",\"NOX4\",\"NUDT15\",\"REXO1\",\"SPATA24\",\"SPPL2A\",\"SRGAP2\",\"SUSD2\",\"TMEM25\",\"TPTE2P3\",\"TTC27\",\"ZNF434\"],\"y\":[3,3,2,2,1,1,1,1,1,1,1,1,1,1,1,1,1,1,1,1,1,1,1,1,1,1],\"type\":\"bar\"}],                        {\"template\":{\"data\":{\"histogram2dcontour\":[{\"type\":\"histogram2dcontour\",\"colorbar\":{\"outlinewidth\":0,\"ticks\":\"\"},\"colorscale\":[[0.0,\"#0d0887\"],[0.1111111111111111,\"#46039f\"],[0.2222222222222222,\"#7201a8\"],[0.3333333333333333,\"#9c179e\"],[0.4444444444444444,\"#bd3786\"],[0.5555555555555556,\"#d8576b\"],[0.6666666666666666,\"#ed7953\"],[0.7777777777777778,\"#fb9f3a\"],[0.8888888888888888,\"#fdca26\"],[1.0,\"#f0f921\"]]}],\"choropleth\":[{\"type\":\"choropleth\",\"colorbar\":{\"outlinewidth\":0,\"ticks\":\"\"}}],\"histogram2d\":[{\"type\":\"histogram2d\",\"colorbar\":{\"outlinewidth\":0,\"ticks\":\"\"},\"colorscale\":[[0.0,\"#0d0887\"],[0.1111111111111111,\"#46039f\"],[0.2222222222222222,\"#7201a8\"],[0.3333333333333333,\"#9c179e\"],[0.4444444444444444,\"#bd3786\"],[0.5555555555555556,\"#d8576b\"],[0.6666666666666666,\"#ed7953\"],[0.7777777777777778,\"#fb9f3a\"],[0.8888888888888888,\"#fdca26\"],[1.0,\"#f0f921\"]]}],\"heatmap\":[{\"type\":\"heatmap\",\"colorbar\":{\"outlinewidth\":0,\"ticks\":\"\"},\"colorscale\":[[0.0,\"#0d0887\"],[0.1111111111111111,\"#46039f\"],[0.2222222222222222,\"#7201a8\"],[0.3333333333333333,\"#9c179e\"],[0.4444444444444444,\"#bd3786\"],[0.5555555555555556,\"#d8576b\"],[0.6666666666666666,\"#ed7953\"],[0.7777777777777778,\"#fb9f3a\"],[0.8888888888888888,\"#fdca26\"],[1.0,\"#f0f921\"]]}],\"heatmapgl\":[{\"type\":\"heatmapgl\",\"colorbar\":{\"outlinewidth\":0,\"ticks\":\"\"},\"colorscale\":[[0.0,\"#0d0887\"],[0.1111111111111111,\"#46039f\"],[0.2222222222222222,\"#7201a8\"],[0.3333333333333333,\"#9c179e\"],[0.4444444444444444,\"#bd3786\"],[0.5555555555555556,\"#d8576b\"],[0.6666666666666666,\"#ed7953\"],[0.7777777777777778,\"#fb9f3a\"],[0.8888888888888888,\"#fdca26\"],[1.0,\"#f0f921\"]]}],\"contourcarpet\":[{\"type\":\"contourcarpet\",\"colorbar\":{\"outlinewidth\":0,\"ticks\":\"\"}}],\"contour\":[{\"type\":\"contour\",\"colorbar\":{\"outlinewidth\":0,\"ticks\":\"\"},\"colorscale\":[[0.0,\"#0d0887\"],[0.1111111111111111,\"#46039f\"],[0.2222222222222222,\"#7201a8\"],[0.3333333333333333,\"#9c179e\"],[0.4444444444444444,\"#bd3786\"],[0.5555555555555556,\"#d8576b\"],[0.6666666666666666,\"#ed7953\"],[0.7777777777777778,\"#fb9f3a\"],[0.8888888888888888,\"#fdca26\"],[1.0,\"#f0f921\"]]}],\"surface\":[{\"type\":\"surface\",\"colorbar\":{\"outlinewidth\":0,\"ticks\":\"\"},\"colorscale\":[[0.0,\"#0d0887\"],[0.1111111111111111,\"#46039f\"],[0.2222222222222222,\"#7201a8\"],[0.3333333333333333,\"#9c179e\"],[0.4444444444444444,\"#bd3786\"],[0.5555555555555556,\"#d8576b\"],[0.6666666666666666,\"#ed7953\"],[0.7777777777777778,\"#fb9f3a\"],[0.8888888888888888,\"#fdca26\"],[1.0,\"#f0f921\"]]}],\"mesh3d\":[{\"type\":\"mesh3d\",\"colorbar\":{\"outlinewidth\":0,\"ticks\":\"\"}}],\"scatter\":[{\"fillpattern\":{\"fillmode\":\"overlay\",\"size\":10,\"solidity\":0.2},\"type\":\"scatter\"}],\"parcoords\":[{\"type\":\"parcoords\",\"line\":{\"colorbar\":{\"outlinewidth\":0,\"ticks\":\"\"}}}],\"scatterpolargl\":[{\"type\":\"scatterpolargl\",\"marker\":{\"colorbar\":{\"outlinewidth\":0,\"ticks\":\"\"}}}],\"bar\":[{\"error_x\":{\"color\":\"#2a3f5f\"},\"error_y\":{\"color\":\"#2a3f5f\"},\"marker\":{\"line\":{\"color\":\"#E5ECF6\",\"width\":0.5},\"pattern\":{\"fillmode\":\"overlay\",\"size\":10,\"solidity\":0.2}},\"type\":\"bar\"}],\"scattergeo\":[{\"type\":\"scattergeo\",\"marker\":{\"colorbar\":{\"outlinewidth\":0,\"ticks\":\"\"}}}],\"scatterpolar\":[{\"type\":\"scatterpolar\",\"marker\":{\"colorbar\":{\"outlinewidth\":0,\"ticks\":\"\"}}}],\"histogram\":[{\"marker\":{\"pattern\":{\"fillmode\":\"overlay\",\"size\":10,\"solidity\":0.2}},\"type\":\"histogram\"}],\"scattergl\":[{\"type\":\"scattergl\",\"marker\":{\"colorbar\":{\"outlinewidth\":0,\"ticks\":\"\"}}}],\"scatter3d\":[{\"type\":\"scatter3d\",\"line\":{\"colorbar\":{\"outlinewidth\":0,\"ticks\":\"\"}},\"marker\":{\"colorbar\":{\"outlinewidth\":0,\"ticks\":\"\"}}}],\"scattermapbox\":[{\"type\":\"scattermapbox\",\"marker\":{\"colorbar\":{\"outlinewidth\":0,\"ticks\":\"\"}}}],\"scatterternary\":[{\"type\":\"scatterternary\",\"marker\":{\"colorbar\":{\"outlinewidth\":0,\"ticks\":\"\"}}}],\"scattercarpet\":[{\"type\":\"scattercarpet\",\"marker\":{\"colorbar\":{\"outlinewidth\":0,\"ticks\":\"\"}}}],\"carpet\":[{\"aaxis\":{\"endlinecolor\":\"#2a3f5f\",\"gridcolor\":\"white\",\"linecolor\":\"white\",\"minorgridcolor\":\"white\",\"startlinecolor\":\"#2a3f5f\"},\"baxis\":{\"endlinecolor\":\"#2a3f5f\",\"gridcolor\":\"white\",\"linecolor\":\"white\",\"minorgridcolor\":\"white\",\"startlinecolor\":\"#2a3f5f\"},\"type\":\"carpet\"}],\"table\":[{\"cells\":{\"fill\":{\"color\":\"#EBF0F8\"},\"line\":{\"color\":\"white\"}},\"header\":{\"fill\":{\"color\":\"#C8D4E3\"},\"line\":{\"color\":\"white\"}},\"type\":\"table\"}],\"barpolar\":[{\"marker\":{\"line\":{\"color\":\"#E5ECF6\",\"width\":0.5},\"pattern\":{\"fillmode\":\"overlay\",\"size\":10,\"solidity\":0.2}},\"type\":\"barpolar\"}],\"pie\":[{\"automargin\":true,\"type\":\"pie\"}]},\"layout\":{\"autotypenumbers\":\"strict\",\"colorway\":[\"#636efa\",\"#EF553B\",\"#00cc96\",\"#ab63fa\",\"#FFA15A\",\"#19d3f3\",\"#FF6692\",\"#B6E880\",\"#FF97FF\",\"#FECB52\"],\"font\":{\"color\":\"#2a3f5f\"},\"hovermode\":\"closest\",\"hoverlabel\":{\"align\":\"left\"},\"paper_bgcolor\":\"white\",\"plot_bgcolor\":\"#E5ECF6\",\"polar\":{\"bgcolor\":\"#E5ECF6\",\"angularaxis\":{\"gridcolor\":\"white\",\"linecolor\":\"white\",\"ticks\":\"\"},\"radialaxis\":{\"gridcolor\":\"white\",\"linecolor\":\"white\",\"ticks\":\"\"}},\"ternary\":{\"bgcolor\":\"#E5ECF6\",\"aaxis\":{\"gridcolor\":\"white\",\"linecolor\":\"white\",\"ticks\":\"\"},\"baxis\":{\"gridcolor\":\"white\",\"linecolor\":\"white\",\"ticks\":\"\"},\"caxis\":{\"gridcolor\":\"white\",\"linecolor\":\"white\",\"ticks\":\"\"}},\"coloraxis\":{\"colorbar\":{\"outlinewidth\":0,\"ticks\":\"\"}},\"colorscale\":{\"sequential\":[[0.0,\"#0d0887\"],[0.1111111111111111,\"#46039f\"],[0.2222222222222222,\"#7201a8\"],[0.3333333333333333,\"#9c179e\"],[0.4444444444444444,\"#bd3786\"],[0.5555555555555556,\"#d8576b\"],[0.6666666666666666,\"#ed7953\"],[0.7777777777777778,\"#fb9f3a\"],[0.8888888888888888,\"#fdca26\"],[1.0,\"#f0f921\"]],\"sequentialminus\":[[0.0,\"#0d0887\"],[0.1111111111111111,\"#46039f\"],[0.2222222222222222,\"#7201a8\"],[0.3333333333333333,\"#9c179e\"],[0.4444444444444444,\"#bd3786\"],[0.5555555555555556,\"#d8576b\"],[0.6666666666666666,\"#ed7953\"],[0.7777777777777778,\"#fb9f3a\"],[0.8888888888888888,\"#fdca26\"],[1.0,\"#f0f921\"]],\"diverging\":[[0,\"#8e0152\"],[0.1,\"#c51b7d\"],[0.2,\"#de77ae\"],[0.3,\"#f1b6da\"],[0.4,\"#fde0ef\"],[0.5,\"#f7f7f7\"],[0.6,\"#e6f5d0\"],[0.7,\"#b8e186\"],[0.8,\"#7fbc41\"],[0.9,\"#4d9221\"],[1,\"#276419\"]]},\"xaxis\":{\"gridcolor\":\"white\",\"linecolor\":\"white\",\"ticks\":\"\",\"title\":{\"standoff\":15},\"zerolinecolor\":\"white\",\"automargin\":true,\"zerolinewidth\":2},\"yaxis\":{\"gridcolor\":\"white\",\"linecolor\":\"white\",\"ticks\":\"\",\"title\":{\"standoff\":15},\"zerolinecolor\":\"white\",\"automargin\":true,\"zerolinewidth\":2},\"scene\":{\"xaxis\":{\"backgroundcolor\":\"#E5ECF6\",\"gridcolor\":\"white\",\"linecolor\":\"white\",\"showbackground\":true,\"ticks\":\"\",\"zerolinecolor\":\"white\",\"gridwidth\":2},\"yaxis\":{\"backgroundcolor\":\"#E5ECF6\",\"gridcolor\":\"white\",\"linecolor\":\"white\",\"showbackground\":true,\"ticks\":\"\",\"zerolinecolor\":\"white\",\"gridwidth\":2},\"zaxis\":{\"backgroundcolor\":\"#E5ECF6\",\"gridcolor\":\"white\",\"linecolor\":\"white\",\"showbackground\":true,\"ticks\":\"\",\"zerolinecolor\":\"white\",\"gridwidth\":2}},\"shapedefaults\":{\"line\":{\"color\":\"#2a3f5f\"}},\"annotationdefaults\":{\"arrowcolor\":\"#2a3f5f\",\"arrowhead\":0,\"arrowwidth\":1},\"geo\":{\"bgcolor\":\"white\",\"landcolor\":\"#E5ECF6\",\"subunitcolor\":\"white\",\"showland\":true,\"showlakes\":true,\"lakecolor\":\"white\"},\"title\":{\"x\":0.05},\"mapbox\":{\"style\":\"light\"}}},\"xaxis\":{\"title\":{\"text\":\"Признаки\"},\"tickangle\":-45},\"title\":{\"text\":\"Важность признаков (LightGBM, gain)\"},\"yaxis\":{\"title\":{\"text\":\"Важность (gain)\"}},\"height\":600,\"width\":1000},                        {\"responsive\": true}                    ).then(function(){\n",
              "                            \n",
              "var gd = document.getElementById('06dbc95d-7340-4dbf-867b-89667548a55b');\n",
              "var x = new MutationObserver(function (mutations, observer) {{\n",
              "        var display = window.getComputedStyle(gd).display;\n",
              "        if (!display || display === 'none') {{\n",
              "            console.log([gd, 'removed!']);\n",
              "            Plotly.purge(gd);\n",
              "            observer.disconnect();\n",
              "        }}\n",
              "}});\n",
              "\n",
              "// Listen for the removal of the full notebook cells\n",
              "var notebookContainer = gd.closest('#notebook-container');\n",
              "if (notebookContainer) {{\n",
              "    x.observe(notebookContainer, {childList: true});\n",
              "}}\n",
              "\n",
              "// Listen for the clearing of the current output cell\n",
              "var outputEl = gd.closest('.output');\n",
              "if (outputEl) {{\n",
              "    x.observe(outputEl, {childList: true});\n",
              "}}\n",
              "\n",
              "                        })                };                            </script>        </div>\n",
              "</body>\n",
              "</html>"
            ]
          },
          "metadata": {}
        }
      ]
    },
    {
      "cell_type": "code",
      "source": [
        "top_positive_LGBMCls = dict(list(positive_importance.items())[:15])"
      ],
      "metadata": {
        "id": "b_nfMH5iIxUw"
      },
      "execution_count": 107,
      "outputs": []
    },
    {
      "cell_type": "code",
      "source": [
        "top_positive_LGBMCls"
      ],
      "metadata": {
        "colab": {
          "base_uri": "https://localhost:8080/"
        },
        "id": "ZHeo4IoUIz1I",
        "outputId": "c8ef047b-faa6-4956-86eb-7bfffe1614dc"
      },
      "execution_count": 108,
      "outputs": [
        {
          "output_type": "execute_result",
          "data": {
            "text/plain": [
              "{'ANKLE1': np.int32(3),\n",
              " 'FAM106C': np.int32(3),\n",
              " 'DHRS12': np.int32(2),\n",
              " 'TRPA1': np.int32(2),\n",
              " 'ANO2': np.int32(1),\n",
              " 'ANXA10': np.int32(1),\n",
              " 'CDH5': np.int32(1),\n",
              " 'COMT': np.int32(1),\n",
              " 'DUSP4': np.int32(1),\n",
              " 'FAM107B': np.int32(1),\n",
              " 'FLJ44635': np.int32(1),\n",
              " 'IRAK1': np.int32(1),\n",
              " 'KIF19': np.int32(1),\n",
              " 'LOC389791': np.int32(1),\n",
              " 'LONRF1': np.int32(1)}"
            ]
          },
          "metadata": {},
          "execution_count": 108
        }
      ]
    },
    {
      "cell_type": "markdown",
      "source": [
        "## CatBoostClassifier"
      ],
      "metadata": {
        "id": "gx3t0D4aKdfW"
      }
    },
    {
      "cell_type": "code",
      "source": [
        "model = CatBoostClassifier(iterations=100, early_stopping_rounds=25)\n",
        "model.fit(X_train, y_train)\n",
        "y_pred = model.predict(X_val)"
      ],
      "metadata": {
        "colab": {
          "base_uri": "https://localhost:8080/"
        },
        "id": "uIVpleGUKdFg",
        "outputId": "a240ce17-7491-4123-fa0e-809d78b3049b"
      },
      "execution_count": 97,
      "outputs": [
        {
          "output_type": "stream",
          "name": "stdout",
          "text": [
            "Learning rate set to 0.029703\n",
            "0:\tlearn: 0.6740792\ttotal: 3.2s\tremaining: 5m 17s\n",
            "1:\tlearn: 0.6554167\ttotal: 4.69s\tremaining: 3m 49s\n",
            "2:\tlearn: 0.6430591\ttotal: 6.24s\tremaining: 3m 21s\n",
            "3:\tlearn: 0.6273007\ttotal: 8.66s\tremaining: 3m 27s\n",
            "4:\tlearn: 0.6077672\ttotal: 10.2s\tremaining: 3m 12s\n",
            "5:\tlearn: 0.5935841\ttotal: 11.6s\tremaining: 3m 2s\n",
            "6:\tlearn: 0.5811033\ttotal: 13.1s\tremaining: 2m 53s\n",
            "7:\tlearn: 0.5640019\ttotal: 14.6s\tremaining: 2m 47s\n",
            "8:\tlearn: 0.5503270\ttotal: 16.1s\tremaining: 2m 42s\n",
            "9:\tlearn: 0.5368043\ttotal: 17.5s\tremaining: 2m 37s\n",
            "10:\tlearn: 0.5229896\ttotal: 19.1s\tremaining: 2m 34s\n",
            "11:\tlearn: 0.5083132\ttotal: 21.5s\tremaining: 2m 37s\n",
            "12:\tlearn: 0.4950921\ttotal: 23s\tremaining: 2m 33s\n",
            "13:\tlearn: 0.4833659\ttotal: 24.5s\tremaining: 2m 30s\n",
            "14:\tlearn: 0.4720856\ttotal: 26s\tremaining: 2m 27s\n",
            "15:\tlearn: 0.4653016\ttotal: 27.4s\tremaining: 2m 24s\n",
            "16:\tlearn: 0.4542207\ttotal: 28.9s\tremaining: 2m 21s\n",
            "17:\tlearn: 0.4416677\ttotal: 30.4s\tremaining: 2m 18s\n",
            "18:\tlearn: 0.4313871\ttotal: 32.3s\tremaining: 2m 17s\n",
            "19:\tlearn: 0.4221673\ttotal: 34.4s\tremaining: 2m 17s\n",
            "20:\tlearn: 0.4143185\ttotal: 35.9s\tremaining: 2m 15s\n",
            "21:\tlearn: 0.4064596\ttotal: 37.4s\tremaining: 2m 12s\n",
            "22:\tlearn: 0.3937443\ttotal: 38.9s\tremaining: 2m 10s\n",
            "23:\tlearn: 0.3869694\ttotal: 40.4s\tremaining: 2m 7s\n",
            "24:\tlearn: 0.3802600\ttotal: 41.8s\tremaining: 2m 5s\n",
            "25:\tlearn: 0.3725125\ttotal: 43.4s\tremaining: 2m 3s\n",
            "26:\tlearn: 0.3648227\ttotal: 45.5s\tremaining: 2m 2s\n",
            "27:\tlearn: 0.3552330\ttotal: 47.4s\tremaining: 2m 1s\n",
            "28:\tlearn: 0.3447530\ttotal: 48.9s\tremaining: 1m 59s\n",
            "29:\tlearn: 0.3384304\ttotal: 50.4s\tremaining: 1m 57s\n",
            "30:\tlearn: 0.3334002\ttotal: 51.9s\tremaining: 1m 55s\n",
            "31:\tlearn: 0.3244757\ttotal: 53.3s\tremaining: 1m 53s\n",
            "32:\tlearn: 0.3178614\ttotal: 54.8s\tremaining: 1m 51s\n",
            "33:\tlearn: 0.3125798\ttotal: 56.3s\tremaining: 1m 49s\n",
            "34:\tlearn: 0.3036342\ttotal: 58.6s\tremaining: 1m 48s\n",
            "35:\tlearn: 0.2980661\ttotal: 1m\tremaining: 1m 47s\n",
            "36:\tlearn: 0.2918173\ttotal: 1m 1s\tremaining: 1m 45s\n",
            "37:\tlearn: 0.2873101\ttotal: 1m 3s\tremaining: 1m 43s\n",
            "38:\tlearn: 0.2815496\ttotal: 1m 4s\tremaining: 1m 41s\n",
            "39:\tlearn: 0.2773557\ttotal: 1m 6s\tremaining: 1m 39s\n",
            "40:\tlearn: 0.2715929\ttotal: 1m 7s\tremaining: 1m 37s\n",
            "41:\tlearn: 0.2647468\ttotal: 1m 9s\tremaining: 1m 35s\n",
            "42:\tlearn: 0.2601248\ttotal: 1m 11s\tremaining: 1m 35s\n",
            "43:\tlearn: 0.2555180\ttotal: 1m 13s\tremaining: 1m 33s\n",
            "44:\tlearn: 0.2500979\ttotal: 1m 14s\tremaining: 1m 31s\n",
            "45:\tlearn: 0.2471148\ttotal: 1m 16s\tremaining: 1m 29s\n",
            "46:\tlearn: 0.2428912\ttotal: 1m 17s\tremaining: 1m 27s\n",
            "47:\tlearn: 0.2383222\ttotal: 1m 19s\tremaining: 1m 25s\n",
            "48:\tlearn: 0.2337809\ttotal: 1m 20s\tremaining: 1m 24s\n",
            "49:\tlearn: 0.2298400\ttotal: 1m 22s\tremaining: 1m 22s\n",
            "50:\tlearn: 0.2257027\ttotal: 1m 24s\tremaining: 1m 21s\n",
            "51:\tlearn: 0.2213478\ttotal: 1m 26s\tremaining: 1m 19s\n",
            "52:\tlearn: 0.2176530\ttotal: 1m 27s\tremaining: 1m 17s\n",
            "53:\tlearn: 0.2139176\ttotal: 1m 29s\tremaining: 1m 15s\n",
            "54:\tlearn: 0.2108318\ttotal: 1m 30s\tremaining: 1m 14s\n",
            "55:\tlearn: 0.2083270\ttotal: 1m 32s\tremaining: 1m 12s\n",
            "56:\tlearn: 0.2056570\ttotal: 1m 33s\tremaining: 1m 10s\n",
            "57:\tlearn: 0.2018957\ttotal: 1m 35s\tremaining: 1m 9s\n",
            "58:\tlearn: 0.1989380\ttotal: 1m 37s\tremaining: 1m 7s\n",
            "59:\tlearn: 0.1950679\ttotal: 1m 39s\tremaining: 1m 6s\n",
            "60:\tlearn: 0.1911455\ttotal: 1m 40s\tremaining: 1m 4s\n",
            "61:\tlearn: 0.1872056\ttotal: 1m 42s\tremaining: 1m 2s\n",
            "62:\tlearn: 0.1841558\ttotal: 1m 43s\tremaining: 1m\n",
            "63:\tlearn: 0.1807644\ttotal: 1m 45s\tremaining: 59.1s\n",
            "64:\tlearn: 0.1787405\ttotal: 1m 46s\tremaining: 57.3s\n",
            "65:\tlearn: 0.1757461\ttotal: 1m 48s\tremaining: 56s\n",
            "66:\tlearn: 0.1729048\ttotal: 1m 50s\tremaining: 54.4s\n",
            "67:\tlearn: 0.1708230\ttotal: 1m 51s\tremaining: 52.7s\n",
            "68:\tlearn: 0.1679044\ttotal: 1m 53s\tremaining: 51s\n",
            "69:\tlearn: 0.1651762\ttotal: 1m 54s\tremaining: 49.2s\n",
            "70:\tlearn: 0.1624477\ttotal: 1m 56s\tremaining: 47.5s\n",
            "71:\tlearn: 0.1601545\ttotal: 1m 57s\tremaining: 45.8s\n",
            "72:\tlearn: 0.1579116\ttotal: 1m 59s\tremaining: 44.1s\n",
            "73:\tlearn: 0.1548692\ttotal: 2m 1s\tremaining: 42.7s\n",
            "74:\tlearn: 0.1518515\ttotal: 2m 3s\tremaining: 41.1s\n",
            "75:\tlearn: 0.1501418\ttotal: 2m 4s\tremaining: 39.4s\n",
            "76:\tlearn: 0.1479620\ttotal: 2m 6s\tremaining: 37.7s\n",
            "77:\tlearn: 0.1458196\ttotal: 2m 7s\tremaining: 36s\n",
            "78:\tlearn: 0.1436292\ttotal: 2m 9s\tremaining: 34.3s\n",
            "79:\tlearn: 0.1418719\ttotal: 2m 10s\tremaining: 32.7s\n",
            "80:\tlearn: 0.1398924\ttotal: 2m 12s\tremaining: 31s\n",
            "81:\tlearn: 0.1377754\ttotal: 2m 14s\tremaining: 29.5s\n",
            "82:\tlearn: 0.1361193\ttotal: 2m 16s\tremaining: 27.9s\n",
            "83:\tlearn: 0.1348841\ttotal: 2m 17s\tremaining: 26.2s\n",
            "84:\tlearn: 0.1327063\ttotal: 2m 19s\tremaining: 24.5s\n",
            "85:\tlearn: 0.1305835\ttotal: 2m 20s\tremaining: 22.9s\n",
            "86:\tlearn: 0.1288351\ttotal: 2m 22s\tremaining: 21.2s\n",
            "87:\tlearn: 0.1271014\ttotal: 2m 23s\tremaining: 19.6s\n",
            "88:\tlearn: 0.1253333\ttotal: 2m 25s\tremaining: 17.9s\n",
            "89:\tlearn: 0.1233041\ttotal: 2m 27s\tremaining: 16.4s\n",
            "90:\tlearn: 0.1221908\ttotal: 2m 28s\tremaining: 14.7s\n",
            "91:\tlearn: 0.1208229\ttotal: 2m 30s\tremaining: 13.1s\n",
            "92:\tlearn: 0.1193088\ttotal: 2m 31s\tremaining: 11.4s\n",
            "93:\tlearn: 0.1180149\ttotal: 2m 33s\tremaining: 9.79s\n",
            "94:\tlearn: 0.1158964\ttotal: 2m 34s\tremaining: 8.15s\n",
            "95:\tlearn: 0.1142795\ttotal: 2m 36s\tremaining: 6.51s\n",
            "96:\tlearn: 0.1125460\ttotal: 2m 38s\tremaining: 4.89s\n",
            "97:\tlearn: 0.1116383\ttotal: 2m 40s\tremaining: 3.27s\n",
            "98:\tlearn: 0.1099243\ttotal: 2m 41s\tremaining: 1.63s\n",
            "99:\tlearn: 0.1084560\ttotal: 2m 43s\tremaining: 0us\n"
          ]
        }
      ]
    },
    {
      "cell_type": "code",
      "source": [
        "print(f\"Accuracy = {accuracy_score(y_val, y_pred)}\")\n",
        "print(f\"Precision = {precision_score(y_val, y_pred)}\")\n",
        "print(f\"Recall = {recall_score(y_val, y_pred)}\")\n",
        "print(f\"F1 Score = {f1_score(y_val, y_pred)}\")\n",
        "print(f\"specificity score = {specificity_score(y_val, y_pred)}\")"
      ],
      "metadata": {
        "colab": {
          "base_uri": "https://localhost:8080/"
        },
        "id": "gcJ_0jsnKuWo",
        "outputId": "6e57868f-a342-4e5b-9a26-134ab257ffc9"
      },
      "execution_count": 98,
      "outputs": [
        {
          "output_type": "stream",
          "name": "stdout",
          "text": [
            "Accuracy = 0.6216216216216216\n",
            "Precision = 0.5652173913043478\n",
            "Recall = 0.7647058823529411\n",
            "F1 Score = 0.65\n",
            "specificity score = 0.5\n"
          ]
        }
      ]
    },
    {
      "cell_type": "code",
      "source": [
        "importance = model.get_feature_importance(type='PredictionValuesChange')\n",
        "\n",
        "#создание словаря {признак: важность}\n",
        "feature_importance = dict(zip(\n",
        "    data_.columns.drop('patient.biochemical_recurrence'),\n",
        "    importance\n",
        "))\n",
        "\n",
        "#сортировыка по убыванию\n",
        "sorted_importance = {k: v for k, v in sorted(\n",
        "    feature_importance.items(),\n",
        "    key=lambda item: item[1],\n",
        "    reverse=True\n",
        ")}\n",
        "\n",
        "#фильтрация\n",
        "positive_importance = {k: v for k, v in sorted_importance.items() if v > 0}\n",
        "\n",
        "features = list(positive_importance.keys())\n",
        "values = list(positive_importance.values())\n",
        "\n",
        "fig = go.Figure()\n",
        "fig.add_trace(go.Bar(\n",
        "    x=features,\n",
        "    y=values,\n",
        "    marker_color='skyblue'\n",
        "))\n",
        "\n",
        "fig.update_layout(\n",
        "    title='Важность признаков (CatBoost)',\n",
        "    xaxis_title='Признаки',\n",
        "    yaxis_title='Важность (PredictionValuesChange)',\n",
        "    xaxis_tickangle=-45,\n",
        "    height=600,\n",
        "    width=1000\n",
        ")\n",
        "\n",
        "fig.show()"
      ],
      "metadata": {
        "colab": {
          "base_uri": "https://localhost:8080/",
          "height": 617
        },
        "id": "w-6BK5Z0Kypr",
        "outputId": "fe469f0c-f209-4653-df8f-8d73a7130a08"
      },
      "execution_count": 99,
      "outputs": [
        {
          "output_type": "display_data",
          "data": {
            "text/html": [
              "<html>\n",
              "<head><meta charset=\"utf-8\" /></head>\n",
              "<body>\n",
              "    <div>            <script src=\"https://cdnjs.cloudflare.com/ajax/libs/mathjax/2.7.5/MathJax.js?config=TeX-AMS-MML_SVG\"></script><script type=\"text/javascript\">if (window.MathJax && window.MathJax.Hub && window.MathJax.Hub.Config) {window.MathJax.Hub.Config({SVG: {font: \"STIX-Web\"}});}</script>                <script type=\"text/javascript\">window.PlotlyConfig = {MathJaxConfig: 'local'};</script>\n",
              "        <script charset=\"utf-8\" src=\"https://cdn.plot.ly/plotly-2.35.2.min.js\"></script>                <div id=\"ee3ad5aa-3518-4477-9da6-76e2c32404f7\" class=\"plotly-graph-div\" style=\"height:600px; width:1000px;\"></div>            <script type=\"text/javascript\">                                    window.PLOTLYENV=window.PLOTLYENV || {};                                    if (document.getElementById(\"ee3ad5aa-3518-4477-9da6-76e2c32404f7\")) {                    Plotly.newPlot(                        \"ee3ad5aa-3518-4477-9da6-76e2c32404f7\",                        [{\"marker\":{\"color\":\"skyblue\"},\"x\":[\"NOX4\",\"PGPEP1\",\"NKX6-1\",\"TPTE2P3\",\"C3orf36\",\"C17orf81\",\"SRGAP2\",\"ESAM\",\"TEX10\",\"KIF19\",\"CEP72\",\"GSDMA\",\"CSF2RA\",\"ELTD1\",\"ENG\",\"DGAT2\",\"MAML1\",\"TFR2\",\"FCGR2A\",\"SUGT1\",\"SLC43A1\",\"CALM2\",\"TRPA1\",\"CHMP4C\",\"KCNIP1\",\"FOXN4\",\"TXNL4B\",\"FKBP1B\",\"VN1R2\",\"JPH4\",\"FLJ44635\",\"LZTFL1\",\"STK36\",\"THBS2\",\"LZTS1\",\"HLA-DRB6\",\"MMRN2\",\"CYP7B1\",\"TUBG1\",\"SRP54\",\"GTF3C6\",\"KAT2A\",\"LOC100129716\",\"NCRNA00095\",\"ARHGEF15\",\"TNFRSF10D\",\"PAX6\",\"KIFC2\",\"FAM82A1\",\"ZNRF1\",\"CILP\",\"CCL16\",\"PLVAP\",\"PLEKHG1\",\"FEN1\",\"TUFM\",\"EFCAB2\",\"COX4I2\",\"KIAA0240\",\"MFSD4\",\"NME5\",\"MET\",\"C10orf68\",\"C6orf97\",\"RAD50\",\"ZNF501\",\"FLJ35390\",\"TMEM53\",\"UGT2B15\",\"CNFN\",\"PCDHGB8P\",\"KRTAP5-8\",\"HIST1H3J\",\"C6orf59\",\"TBC1D3C\",\"TUBGCP5\",\"PCNXL2\",\"NOMO1\",\"SMARCA2\",\"CDHR4\",\"HDAC4\",\"CILP2\",\"KIAA0495\",\"EXTL1\",\"RAPGEF1\",\"TEK\",\"GSTM5\",\"DHRS12\",\"GJD4\",\"PANK4\",\"MAD2L1BP\",\"LDHD\",\"C20orf197\",\"MT1M\",\"CACNG6\",\"ASXL3\",\"CD1B\",\"DPY19L2P1\",\"GUSBL2\",\"FAR1\",\"DTD1\",\"KLHL1\",\"NCAPH2\",\"PABPC5\",\"FBXL3\",\"LOC100133331\",\"RHBDD2\",\"MTHFD2L\",\"BBOX1\",\"LOC100129066\",\"EPYC\",\"FAM46B\",\"MKRN3\",\"STXBP4\",\"BTD\",\"NTM\",\"FAHD1\",\"ALDH3B1\",\"APBA2\",\"WTIP\",\"PTGIR\",\"LIPH\",\"FAM111B\",\"CCPG1\",\"SLC6A11\",\"AMPD2\",\"PLCG1\",\"C1orf229\",\"C15orf62\",\"TIFAB\",\"SNRNP27\",\"PTPRB\",\"DPYSL5\",\"LAPTM4A\",\"C5orf15\",\"ATP1B3\",\"BTBD12\",\"ERRFI1\",\"LOC145820\",\"C16orf70\",\"ABCB6\",\"ATCAY\",\"CRABP2\",\"SIX6\",\"PRKAR2B\",\"SAMHD1\",\"SLC34A1\",\"XAB2\",\"KCTD9\",\"UBXN10\",\"MAGIX\",\"FLT4\",\"YLPM1\",\"MLST8\",\"C12orf48\",\"SPAG4\",\"C8orf51\",\"COG2\",\"DPCR1\",\"C15orf23\",\"SNX22\",\"AQP7\",\"FAM110A\",\"ST7OT1\",\"RPS13\",\"HLA-DMA\",\"SNAP23\",\"CSF2RB\",\"LGALS2\",\"PMS2\",\"NCOR2\",\"SPATA2L\",\"CCDC18\",\"ZNF80\",\"ZFP112\",\"PCDH1\",\"UGT1A6\",\"PHOSPHO2\",\"MRPL10\",\"FBRSL1\",\"MFRP\",\"CCBP2\",\"TMEM199\",\"RPS4Y1\",\"RBM18\",\"BAG1\",\"PDCD7\",\"SNTA1\",\"CYP8B1\",\"C14orf167\",\"SMPD1\",\"C2orf84\",\"FCRL5\",\"PGLYRP2\",\"CSDAP1\",\"CDKN1A\",\"POT1\",\"IGDCC4\",\"SIP1\",\"TREM2\",\"SLFN5\",\"CEBPZ\",\"TRIM69\",\"PCDHGC4\",\"C10orf82\",\"RPH3A\",\"SAMD3\",\"ARL6\",\"TMEM14C\",\"PSMD10\",\"G6PC3\",\"CRHR1\",\"C1orf106\",\"KBTBD12\",\"GJB3\",\"EPAS1\",\"TYROBP\",\"CRB2\",\"ECE2\",\"ZNF318\",\"COL4A3BP\",\"ZNF79\",\"MYBBP1A\",\"MAL\",\"LOC339290\",\"PPY2\",\"KIF7\",\"TCF7L1\",\"EIF4B\",\"CALCA\",\"HLTF\",\"TMC7\",\"SCNN1B\",\"SLC39A10\",\"SLC9A1\",\"PSMD2\",\"VPS26A\",\"NUDT17\",\"SEP15\",\"CEP164\",\"SUCLA2\",\"CIB1\",\"TNNC1\",\"RAB36\",\"EPO\",\"TRAM1\",\"TRIM6\",\"NPB\",\"CARNS1\",\"GRIK1\",\"IP6K3\",\"ARRB2\",\"CAD\",\"NUP153\",\"SLC38A9\",\"TDGF1\",\"CD1E\",\"MRPL21\",\"OR52N4\",\"PRKACA\",\"TRIM45\",\"C7orf10\",\"MTF1\",\"MAMDC4\",\"CCDC11\",\"ZNF44\",\"C16orf68\",\"SVOPL\",\"MCM5\",\"LOC100133669\",\"TMEM200A\",\"MED29\",\"ARMC7\",\"SLCO4A1\",\"PPIL3\",\"OR4F29\",\"COPG2\",\"GSS\",\"MPND\",\"CRB3\",\"IQCC\",\"ZNF434\",\"LPGAT1\",\"BST2\",\"NKAP\",\"SLC37A1\",\"LILRB3\",\"TF\",\"RPL21P44\",\"SMPD4\",\"RAD51L3\",\"IL1B\",\"SNORA74B\",\"FAM173B\",\"DPY19L3\",\"NPFF\",\"OASL\",\"CD69\",\"GRM3\",\"SPATS2L\",\"CWC22\",\"GPR83\",\"PSMA4\",\"ACAN\",\"C5AR1\",\"PANX2\",\"LSM3\",\"NELF\",\"FUT3\",\"NR1I3\",\"CHMP4A\",\"RNF183\",\"SIX2\",\"RPH3AL\",\"OST4\",\"NUP210\",\"MYNN\",\"ELL\",\"PPIF\",\"SEC14L4\",\"CD207\",\"CCDC39\",\"PRKAR1B\",\"SLC30A5\",\"TSHZ1\",\"KLHL10\",\"ISLR2\",\"PGP\",\"TRIM65\",\"REXO4\",\"MYH1\",\"HOXB4\",\"SLC6A6\",\"ANKLE1\",\"LOC550643\",\"TCOF1\",\"YIPF1\",\"SQRDL\",\"CC2D2B\",\"RASA4\",\"DDX5\",\"CHTF8\",\"LOC100128288\",\"DAZ1\",\"FAM181B\",\"LRCH3\",\"NECAB3\",\"RBM12\",\"LOC255167\",\"KLB\",\"KIAA0391\",\"C9orf47\",\"HIST1H3C\",\"S100A6\",\"NT5C2\",\"MFN2\",\"CALCRL\",\"RLN2\",\"VPS33B\",\"TP53I3\",\"COX10\",\"TMEM102\",\"PEMT\",\"IGSF1\",\"VSIG10\",\"AIMP2\",\"SIRPD\",\"ACTB\",\"LOC157381\",\"PHLPP1\",\"TSHR\",\"RFTN2\",\"RFXANK\",\"PTAFR\",\"SPESP1\",\"LOC100132215\",\"C1orf65\",\"FCRL3\",\"ORMDL2\",\"KIAA0319L\",\"KAT2B\",\"VWC2\",\"KCTD15\",\"EEA1\",\"XPO7\",\"RIOK2\",\"SELL\",\"GLTSCR2\",\"HS3ST6\",\"EEF2K\",\"HNRNPK\",\"PLEKHA8\",\"RNASEH2B\",\"C14orf34\",\"MLF2\",\"B3GALT1\",\"FERMT2\",\"SYNPO2L\",\"SCHIP1\",\"USP18\",\"VWF\",\"DLGAP3\",\"HDAC8\",\"LOC151534\",\"PPIAL4G\",\"BLM\",\"DENND3\",\"RAET1K\",\"TREX1\",\"SF3A1\",\"PSD2\",\"NT5C3L\",\"ADAMTS14\",\"CCDC113\",\"SPHKAP\",\"LRRC37B2\",\"KCNV1\",\"PUSL1\",\"KCNAB2\",\"KCNF1\",\"FAM43B\",\"MIR155HG\",\"ZNF584\",\"SF3B4\",\"B4GALNT4\",\"MRPS23\",\"SFRP2\",\"MYO7A\",\"CEP120\",\"NTRK3\",\"PRO0628\",\"CD19\",\"LOC256880\",\"RPS6KA1\",\"SFT2D1\",\"KLHL7\",\"C2orf73\",\"POLR1A\",\"CT62\",\"UBTD1\",\"POM121\",\"BARD1\",\"C8orf4\",\"GGTA1\",\"PIK3CD\",\"ACADSB\",\"TBC1D22B\",\"MFAP3L\",\"AEBP1\",\"TMEM231\",\"ANKRD56\",\"APBA1\",\"SLC7A4\",\"CHKB\",\"KIF18A\",\"GSTZ1\",\"LILRB5\",\"GADL1\",\"HPGD\",\"DDC\",\"LOC650368\",\"TMPRSS4\",\"SETDB1\",\"DHCR7\",\"NCRNA00219\",\"HYAL3\",\"UGT1A3\",\"AVEN\",\"CALHM3\",\"RAB22A\",\"FAM102A\",\"TDRD3\",\"TNFRSF6B\",\"PHF5A\",\"FAF2\",\"SIN3B\",\"GZF1\",\"FSD2\",\"ZNF268\",\"NOP56\",\"NLE1\",\"OAZ3\",\"CLDN25\",\"RSPO1\",\"PRND\",\"C8orf12\",\"ZBTB8B\",\"TBL3\",\"SLITRK4\",\"HUS1\",\"OR56B4\",\"FAM169B\",\"ADHFE1\",\"BDKRB2\",\"MAPKAP1\",\"TAS2R14\",\"SPEM1\",\"ITGB3\",\"NCDN\",\"CYGB\",\"DBC1\",\"KIAA1210\",\"HDHD1A\",\"ARNT\",\"POU4F1\",\"C12orf42\",\"PLEK2\",\"MYADML\",\"FAM83C\",\"MORF4\",\"TMEM180\",\"MYH14\",\"SNED1\",\"THYN1\",\"PLAC2\",\"SCGB1A1\",\"IL13\",\"SSR1\",\"EIF2C1\",\"KIF21A\",\"IMPDH1\",\"CDKL3\",\"INTS5\",\"EFHD1\",\"COLEC10\",\"LAMB4\",\"ABI2\",\"IL28RA\",\"SNAPC1\",\"PF4V1\",\"CTNNBIP1\",\"KIAA0753\",\"HNRNPH3\",\"OVGP1\",\"SMOC2\",\"HERC5\",\"HNRNPA2B1\",\"DQX1\",\"CBWD3\",\"C10orf58\",\"NHEJ1\",\"PPIAL4D\",\"PRSS23\",\"NDUFAF3\",\"GNRH2\",\"MLLT11\",\"AKNA\",\"TRIM33\",\"RBM27\",\"STK11IP\",\"DYNLL1\",\"SAGE1\",\"SS18\",\"CCDC102B\",\"PAIP2\",\"LGALS1\",\"THBS4\",\"LOC100132111\",\"XRRA1\",\"ANKRD57\",\"DPY19L2P2\",\"PVALB\",\"NOBOX\",\"HIST1H1D\",\"PTPN22\",\"OR4A47\"],\"y\":[1.9134106868442302,1.1378867719237227,1.103430550017557,1.0926869490393782,1.09055651679961,1.0905263220889838,1.074045602813039,1.0057974102964866,0.9842447724618434,0.9751559783771984,0.9703589265304049,0.9695560074280839,0.9321541823413456,0.8802503927837088,0.8626840927557399,0.8134071551759332,0.7656356510260117,0.7629632973850924,0.7309891307271609,0.7274893355990739,0.7132866220183965,0.7105551311602761,0.6970127823026474,0.6904589848758557,0.6788416551807304,0.6677100341615251,0.6441123452060092,0.5747737726083121,0.5674870479385731,0.5622986603410307,0.5395316873729025,0.5370068873938936,0.5237742833168905,0.5215989890309505,0.5145449143854784,0.5099567400379219,0.5091067454600964,0.5075747856107969,0.5049369242391575,0.4990821317291177,0.4854202705843497,0.4843328617119374,0.47869783973807384,0.4702476355883406,0.46051299736773715,0.44257986540945693,0.43801264018824587,0.42756286653921965,0.4197271583211648,0.41808653806105023,0.4174813328326611,0.40466184143476736,0.40333566463310017,0.4000069445289064,0.3929987397797651,0.3896455574535636,0.38881798164286824,0.3869382555043843,0.379107435435615,0.3764787071195278,0.3619569769910503,0.35557819769090754,0.3504761834281542,0.3489548023097828,0.34878461950014683,0.34638979149823285,0.34208935853837624,0.34167602991787116,0.34122670193154464,0.3409687304708126,0.3406499032729526,0.33721633578323335,0.3335969882469958,0.3288653300827844,0.3279629540399757,0.3273132397773333,0.3227500990340039,0.31938798893210113,0.318954756575503,0.3171727838143306,0.31329807477979854,0.3128249585140548,0.30370139762739273,0.30293616780187205,0.29908165611640297,0.29760243836536526,0.2966030814824076,0.2957922053833305,0.29571451265084936,0.29240272875762746,0.29240133979584443,0.2919842054140133,0.29185083350611607,0.29166496868588776,0.2898088644297395,0.28549446983878835,0.2831820905641922,0.2812353704613186,0.2812155163640776,0.2805987905305501,0.27986094850064797,0.27584902969635317,0.27551117257734403,0.27523778174131175,0.27219586054011913,0.26770232508311814,0.26692930528501757,0.26412198754900346,0.258456177429655,0.2512276247701507,0.2502511188531123,0.24956186257166058,0.2488650507551268,0.24816251912342133,0.24643623336227494,0.2463039677149027,0.244214511271654,0.2438904476186675,0.24093563381003377,0.24080262637948038,0.2392997357118887,0.23928236350619786,0.23719815114988482,0.23558586522066008,0.23450049861115685,0.23415709974671628,0.23310674328666206,0.23019037574950152,0.22989397425102756,0.22821755882239586,0.22340824580431212,0.2232735814945237,0.2229804557910899,0.22120339919433019,0.22106675238705878,0.21755744156011728,0.21716225163621525,0.21703133067902802,0.21701282513233713,0.21640156317432954,0.2162500004182424,0.21492967752037517,0.21461298917733737,0.21106588512014177,0.2098033214692318,0.20913581193846761,0.2037309963597015,0.2007146953132223,0.20046767455878287,0.19990381704721194,0.19818892015297185,0.1973156797502848,0.1972685702402393,0.19640464442847827,0.19626520069476594,0.194523959293818,0.19395755691692138,0.19383059864425461,0.19320365529153022,0.1926731508553729,0.1910328281862609,0.1901069212488962,0.1900644093370859,0.18986051605497142,0.188756764101342,0.18840822542255925,0.18810005105170002,0.18619958845061751,0.1841665370633357,0.18264673358886027,0.18211209047244412,0.18182582181812879,0.18067680024213154,0.17950572148450508,0.17933263007998368,0.17818581369750175,0.17715691181976265,0.17706028890040923,0.1727937892288542,0.17243264688232132,0.16897189129260065,0.16818294290916674,0.16764619054392338,0.1668060613793339,0.16649152211538715,0.16616787418285178,0.1651463499319784,0.16257812065560304,0.1624484705376638,0.16128245338445232,0.1603934128699672,0.16028899725106377,0.15987972322092892,0.15969735065926932,0.15951822270181518,0.15944835138282185,0.159355792838365,0.1578537308988943,0.15761522960575772,0.15719783450690078,0.15694677220311193,0.15602034007756105,0.15600394368576037,0.15533730015484662,0.15487448142456275,0.15467462689037756,0.15451243742828955,0.1539324761103422,0.15323904253230794,0.1531514185569668,0.15168946480452491,0.14963128173714016,0.14962686852513402,0.14882606509230759,0.14882039523843846,0.14747497889620503,0.1470125627662807,0.14598984076759242,0.1454508827389723,0.14408850359635392,0.14395068487972915,0.14384101442388283,0.14308026821183564,0.1427129982200886,0.1416151279903139,0.14087569957913207,0.14060469164939982,0.13944958699107532,0.13844932175757893,0.13842425032857922,0.1376011223841887,0.1375440942984001,0.13747657458107126,0.13713554543903023,0.13562211012936012,0.134914458214725,0.13383181738299807,0.1316183318707808,0.13110735885378433,0.1305297109360559,0.12983619219611237,0.1295760204008807,0.1292320763929543,0.12921548165892088,0.12882659589409107,0.12874386088610762,0.1283574046731485,0.127339179639113,0.12670343887324334,0.12387190611203289,0.1238089613763293,0.12371380730032021,0.12365931501995182,0.12306889697535756,0.12158914013617522,0.12142379273579058,0.12141248543140383,0.12134289407620616,0.12017577253737856,0.12015726947615032,0.12011357009183535,0.11916528295426627,0.11894388814305408,0.11846173825090137,0.11843396103771353,0.11796062442044367,0.11787924501130566,0.11653598515222187,0.11610065644246327,0.11609045147721758,0.11508276492412108,0.11456515338577963,0.11413416549101185,0.11361157127781635,0.1133672670732822,0.11305955510518804,0.1129878222281296,0.11199168040824511,0.11165014100289407,0.11160789427553273,0.11080935921125344,0.10878021850239578,0.10767126044459696,0.10759307801926113,0.10646847739305046,0.10638856850707734,0.10614931475168965,0.1059853036856848,0.10590927769067758,0.10589750271670886,0.10494226802513151,0.1049382547999221,0.1049308819282252,0.10439601121004319,0.10416160412150774,0.10410436852251298,0.10401397898041616,0.10301664406649313,0.10194455998940047,0.10142530029743282,0.10114479363901373,0.10094351626434471,0.10064273688428366,0.1004773376970988,0.1001670782081325,0.09967402988513796,0.09844285335260924,0.09838017508260717,0.09834575996573643,0.09807190393841297,0.0963535555556306,0.09526056855526502,0.0950492755325925,0.09461013530691866,0.093989188824184,0.09207052359101198,0.09130069259512551,0.09094490541827263,0.09060366226297897,0.09049968513483848,0.09010279422926974,0.09010277355858158,0.08982246410157878,0.0891524350122839,0.0888215498465412,0.08869096749834388,0.08771355553001586,0.08742103468077364,0.08686113931930507,0.08673889257735441,0.08652631672547993,0.08620569025556124,0.08580714677326846,0.08565896418918462,0.08565678983800823,0.085638467508124,0.0850834951527407,0.08494671112035392,0.08396885981076163,0.08385586067084892,0.08276819831308713,0.08231664005633672,0.08197785371394492,0.08015076839725463,0.07978646083955436,0.07975228209869763,0.07897575810626603,0.07871778433932027,0.07809586429566803,0.07800572748486159,0.07760032420948881,0.07747391782712369,0.07723573070662883,0.07722333738633987,0.07698729227994139,0.07620385719115215,0.07619917691660982,0.07615317069399162,0.07573830390630185,0.07493265187241364,0.07441471402771799,0.07439022368956427,0.0743151834505508,0.07417204205691633,0.07412655159795054,0.0740745388850989,0.07395945197693732,0.07375797994138807,0.07351405828638696,0.07253026854749181,0.07252353980576329,0.07243443869423165,0.07212880964117513,0.07178958020208885,0.07172184215280625,0.07056357742903968,0.07003901908571677,0.06937332285177181,0.06851927141976628,0.06803882591473959,0.0679717864472277,0.06762973004400634,0.0674240156151054,0.0670443920773144,0.06581641653861614,0.06567209061902164,0.06558325656628491,0.06494368057180523,0.06359132003326362,0.06284432852785003,0.062107628944463936,0.06182662057353087,0.061826478048257055,0.061667125808782676,0.06156626769148752,0.06109368742215699,0.06070152170713861,0.060250588972895175,0.060136295674831676,0.05991062639480963,0.05986453536425161,0.05986359551845666,0.05934419271663098,0.058875334508546436,0.058614050870559015,0.058513238974354204,0.0583383923552635,0.05819631791031183,0.05759382408753585,0.05731858328877381,0.05677077950432918,0.05657522899060658,0.05594871913734729,0.05594614312638546,0.055697242161133184,0.05536507722352753,0.05534610068062721,0.05527530920230556,0.055032656121238824,0.05435929761427876,0.05407989396520963,0.05369880508287275,0.053633889054830464,0.053198462335030235,0.05286507497878264,0.052678804198405565,0.05265480037901112,0.05231865683488104,0.05230846012661546,0.05220616793213645,0.052165993201158285,0.05198847905581334,0.0519215449539425,0.05175249632844195,0.05096491778141553,0.05094089371330305,0.05046974075715682,0.05028043002249529,0.05015952000888799,0.0494632074892974,0.049387879085354254,0.04931561608225202,0.04927628461034212,0.049166970628980754,0.04852056671940749,0.04833466259336858,0.048217946789724166,0.047362568460989816,0.047329063669433846,0.04724208063866009,0.047185403856879714,0.04684113453573081,0.04614079192205916,0.04607569065828281,0.045983805428798895,0.045875255052433034,0.04564966322925081,0.045527004210110696,0.0454715052964929,0.04544483464730722,0.04507940297560788,0.04500494736360352,0.04449234122246828,0.04305206723214241,0.042935559073142844,0.04250896168680175,0.04246688692437265,0.04194145138938539,0.04192021126723558,0.0417231161923247,0.041509978440205896,0.0415075880310636,0.04144858888246563,0.04132893944679637,0.04085419656710058,0.04077789897686602,0.04052027603454054,0.04001453402563901,0.03969824860178408,0.039006439434171175,0.03870057957214493,0.038266632494233,0.03814356492964997,0.038078389730406025,0.03765570531810795,0.037640220088611016,0.03734653900937185,0.036802218805205844,0.036663025255038006,0.03662396737609544,0.03656100674510577,0.03640347315559822,0.036311431790279354,0.036179286386648773,0.036147825639293446,0.03607423057801526,0.03590291630393267,0.035746290845327565,0.03567996180952423,0.03501047339523205,0.03499416199517509,0.03347638879309417,0.03302458946031499,0.03263311946679545,0.0325374447626791,0.032412693302422926,0.03237562564653847,0.030942031342091572,0.03067709499822978,0.029941386069316654,0.0297810406658002,0.029765197487897913,0.02964985399813596,0.028958531673427403,0.028746282063243617,0.02848512432780508,0.028409376748335484,0.028396992475861613,0.0273026355521906,0.027132842723932446,0.026728906280131606,0.025973589653014578,0.02596667254051318,0.025365730093766078,0.02525124178852153,0.02522489073901214,0.024545370281794997,0.024450163234987575,0.024188360983025486,0.023913137365384675,0.023417078204629828,0.021802895220523488,0.021785227521319898,0.021110794244991467,0.020911818263650968,0.020885951347265078,0.020614611306737748,0.020381947431689997,0.020293400753686765,0.02002113766221256,0.01986375602980189,0.019043154021108174,0.017794972022675708,0.016939584700763153,0.016284569892486948,0.015113151197933298,0.015063905156810994,0.014179301692130108,0.01402618084546491,0.013998621929828575,0.013284798922320684,0.012785548409589854,0.012087414045411497,0.011613998344491673,0.011293641682068048,0.010551888006474297,0.008890293014527685,0.00815624784765133,0.007758481103470753,0.00741547712018362,0.0066329756144303436,0.006421465222038397,0.00343159662384475,0.003212520389298132,0.0018029345013613092,0.0005718974051397566],\"type\":\"bar\"}],                        {\"template\":{\"data\":{\"histogram2dcontour\":[{\"type\":\"histogram2dcontour\",\"colorbar\":{\"outlinewidth\":0,\"ticks\":\"\"},\"colorscale\":[[0.0,\"#0d0887\"],[0.1111111111111111,\"#46039f\"],[0.2222222222222222,\"#7201a8\"],[0.3333333333333333,\"#9c179e\"],[0.4444444444444444,\"#bd3786\"],[0.5555555555555556,\"#d8576b\"],[0.6666666666666666,\"#ed7953\"],[0.7777777777777778,\"#fb9f3a\"],[0.8888888888888888,\"#fdca26\"],[1.0,\"#f0f921\"]]}],\"choropleth\":[{\"type\":\"choropleth\",\"colorbar\":{\"outlinewidth\":0,\"ticks\":\"\"}}],\"histogram2d\":[{\"type\":\"histogram2d\",\"colorbar\":{\"outlinewidth\":0,\"ticks\":\"\"},\"colorscale\":[[0.0,\"#0d0887\"],[0.1111111111111111,\"#46039f\"],[0.2222222222222222,\"#7201a8\"],[0.3333333333333333,\"#9c179e\"],[0.4444444444444444,\"#bd3786\"],[0.5555555555555556,\"#d8576b\"],[0.6666666666666666,\"#ed7953\"],[0.7777777777777778,\"#fb9f3a\"],[0.8888888888888888,\"#fdca26\"],[1.0,\"#f0f921\"]]}],\"heatmap\":[{\"type\":\"heatmap\",\"colorbar\":{\"outlinewidth\":0,\"ticks\":\"\"},\"colorscale\":[[0.0,\"#0d0887\"],[0.1111111111111111,\"#46039f\"],[0.2222222222222222,\"#7201a8\"],[0.3333333333333333,\"#9c179e\"],[0.4444444444444444,\"#bd3786\"],[0.5555555555555556,\"#d8576b\"],[0.6666666666666666,\"#ed7953\"],[0.7777777777777778,\"#fb9f3a\"],[0.8888888888888888,\"#fdca26\"],[1.0,\"#f0f921\"]]}],\"heatmapgl\":[{\"type\":\"heatmapgl\",\"colorbar\":{\"outlinewidth\":0,\"ticks\":\"\"},\"colorscale\":[[0.0,\"#0d0887\"],[0.1111111111111111,\"#46039f\"],[0.2222222222222222,\"#7201a8\"],[0.3333333333333333,\"#9c179e\"],[0.4444444444444444,\"#bd3786\"],[0.5555555555555556,\"#d8576b\"],[0.6666666666666666,\"#ed7953\"],[0.7777777777777778,\"#fb9f3a\"],[0.8888888888888888,\"#fdca26\"],[1.0,\"#f0f921\"]]}],\"contourcarpet\":[{\"type\":\"contourcarpet\",\"colorbar\":{\"outlinewidth\":0,\"ticks\":\"\"}}],\"contour\":[{\"type\":\"contour\",\"colorbar\":{\"outlinewidth\":0,\"ticks\":\"\"},\"colorscale\":[[0.0,\"#0d0887\"],[0.1111111111111111,\"#46039f\"],[0.2222222222222222,\"#7201a8\"],[0.3333333333333333,\"#9c179e\"],[0.4444444444444444,\"#bd3786\"],[0.5555555555555556,\"#d8576b\"],[0.6666666666666666,\"#ed7953\"],[0.7777777777777778,\"#fb9f3a\"],[0.8888888888888888,\"#fdca26\"],[1.0,\"#f0f921\"]]}],\"surface\":[{\"type\":\"surface\",\"colorbar\":{\"outlinewidth\":0,\"ticks\":\"\"},\"colorscale\":[[0.0,\"#0d0887\"],[0.1111111111111111,\"#46039f\"],[0.2222222222222222,\"#7201a8\"],[0.3333333333333333,\"#9c179e\"],[0.4444444444444444,\"#bd3786\"],[0.5555555555555556,\"#d8576b\"],[0.6666666666666666,\"#ed7953\"],[0.7777777777777778,\"#fb9f3a\"],[0.8888888888888888,\"#fdca26\"],[1.0,\"#f0f921\"]]}],\"mesh3d\":[{\"type\":\"mesh3d\",\"colorbar\":{\"outlinewidth\":0,\"ticks\":\"\"}}],\"scatter\":[{\"fillpattern\":{\"fillmode\":\"overlay\",\"size\":10,\"solidity\":0.2},\"type\":\"scatter\"}],\"parcoords\":[{\"type\":\"parcoords\",\"line\":{\"colorbar\":{\"outlinewidth\":0,\"ticks\":\"\"}}}],\"scatterpolargl\":[{\"type\":\"scatterpolargl\",\"marker\":{\"colorbar\":{\"outlinewidth\":0,\"ticks\":\"\"}}}],\"bar\":[{\"error_x\":{\"color\":\"#2a3f5f\"},\"error_y\":{\"color\":\"#2a3f5f\"},\"marker\":{\"line\":{\"color\":\"#E5ECF6\",\"width\":0.5},\"pattern\":{\"fillmode\":\"overlay\",\"size\":10,\"solidity\":0.2}},\"type\":\"bar\"}],\"scattergeo\":[{\"type\":\"scattergeo\",\"marker\":{\"colorbar\":{\"outlinewidth\":0,\"ticks\":\"\"}}}],\"scatterpolar\":[{\"type\":\"scatterpolar\",\"marker\":{\"colorbar\":{\"outlinewidth\":0,\"ticks\":\"\"}}}],\"histogram\":[{\"marker\":{\"pattern\":{\"fillmode\":\"overlay\",\"size\":10,\"solidity\":0.2}},\"type\":\"histogram\"}],\"scattergl\":[{\"type\":\"scattergl\",\"marker\":{\"colorbar\":{\"outlinewidth\":0,\"ticks\":\"\"}}}],\"scatter3d\":[{\"type\":\"scatter3d\",\"line\":{\"colorbar\":{\"outlinewidth\":0,\"ticks\":\"\"}},\"marker\":{\"colorbar\":{\"outlinewidth\":0,\"ticks\":\"\"}}}],\"scattermapbox\":[{\"type\":\"scattermapbox\",\"marker\":{\"colorbar\":{\"outlinewidth\":0,\"ticks\":\"\"}}}],\"scatterternary\":[{\"type\":\"scatterternary\",\"marker\":{\"colorbar\":{\"outlinewidth\":0,\"ticks\":\"\"}}}],\"scattercarpet\":[{\"type\":\"scattercarpet\",\"marker\":{\"colorbar\":{\"outlinewidth\":0,\"ticks\":\"\"}}}],\"carpet\":[{\"aaxis\":{\"endlinecolor\":\"#2a3f5f\",\"gridcolor\":\"white\",\"linecolor\":\"white\",\"minorgridcolor\":\"white\",\"startlinecolor\":\"#2a3f5f\"},\"baxis\":{\"endlinecolor\":\"#2a3f5f\",\"gridcolor\":\"white\",\"linecolor\":\"white\",\"minorgridcolor\":\"white\",\"startlinecolor\":\"#2a3f5f\"},\"type\":\"carpet\"}],\"table\":[{\"cells\":{\"fill\":{\"color\":\"#EBF0F8\"},\"line\":{\"color\":\"white\"}},\"header\":{\"fill\":{\"color\":\"#C8D4E3\"},\"line\":{\"color\":\"white\"}},\"type\":\"table\"}],\"barpolar\":[{\"marker\":{\"line\":{\"color\":\"#E5ECF6\",\"width\":0.5},\"pattern\":{\"fillmode\":\"overlay\",\"size\":10,\"solidity\":0.2}},\"type\":\"barpolar\"}],\"pie\":[{\"automargin\":true,\"type\":\"pie\"}]},\"layout\":{\"autotypenumbers\":\"strict\",\"colorway\":[\"#636efa\",\"#EF553B\",\"#00cc96\",\"#ab63fa\",\"#FFA15A\",\"#19d3f3\",\"#FF6692\",\"#B6E880\",\"#FF97FF\",\"#FECB52\"],\"font\":{\"color\":\"#2a3f5f\"},\"hovermode\":\"closest\",\"hoverlabel\":{\"align\":\"left\"},\"paper_bgcolor\":\"white\",\"plot_bgcolor\":\"#E5ECF6\",\"polar\":{\"bgcolor\":\"#E5ECF6\",\"angularaxis\":{\"gridcolor\":\"white\",\"linecolor\":\"white\",\"ticks\":\"\"},\"radialaxis\":{\"gridcolor\":\"white\",\"linecolor\":\"white\",\"ticks\":\"\"}},\"ternary\":{\"bgcolor\":\"#E5ECF6\",\"aaxis\":{\"gridcolor\":\"white\",\"linecolor\":\"white\",\"ticks\":\"\"},\"baxis\":{\"gridcolor\":\"white\",\"linecolor\":\"white\",\"ticks\":\"\"},\"caxis\":{\"gridcolor\":\"white\",\"linecolor\":\"white\",\"ticks\":\"\"}},\"coloraxis\":{\"colorbar\":{\"outlinewidth\":0,\"ticks\":\"\"}},\"colorscale\":{\"sequential\":[[0.0,\"#0d0887\"],[0.1111111111111111,\"#46039f\"],[0.2222222222222222,\"#7201a8\"],[0.3333333333333333,\"#9c179e\"],[0.4444444444444444,\"#bd3786\"],[0.5555555555555556,\"#d8576b\"],[0.6666666666666666,\"#ed7953\"],[0.7777777777777778,\"#fb9f3a\"],[0.8888888888888888,\"#fdca26\"],[1.0,\"#f0f921\"]],\"sequentialminus\":[[0.0,\"#0d0887\"],[0.1111111111111111,\"#46039f\"],[0.2222222222222222,\"#7201a8\"],[0.3333333333333333,\"#9c179e\"],[0.4444444444444444,\"#bd3786\"],[0.5555555555555556,\"#d8576b\"],[0.6666666666666666,\"#ed7953\"],[0.7777777777777778,\"#fb9f3a\"],[0.8888888888888888,\"#fdca26\"],[1.0,\"#f0f921\"]],\"diverging\":[[0,\"#8e0152\"],[0.1,\"#c51b7d\"],[0.2,\"#de77ae\"],[0.3,\"#f1b6da\"],[0.4,\"#fde0ef\"],[0.5,\"#f7f7f7\"],[0.6,\"#e6f5d0\"],[0.7,\"#b8e186\"],[0.8,\"#7fbc41\"],[0.9,\"#4d9221\"],[1,\"#276419\"]]},\"xaxis\":{\"gridcolor\":\"white\",\"linecolor\":\"white\",\"ticks\":\"\",\"title\":{\"standoff\":15},\"zerolinecolor\":\"white\",\"automargin\":true,\"zerolinewidth\":2},\"yaxis\":{\"gridcolor\":\"white\",\"linecolor\":\"white\",\"ticks\":\"\",\"title\":{\"standoff\":15},\"zerolinecolor\":\"white\",\"automargin\":true,\"zerolinewidth\":2},\"scene\":{\"xaxis\":{\"backgroundcolor\":\"#E5ECF6\",\"gridcolor\":\"white\",\"linecolor\":\"white\",\"showbackground\":true,\"ticks\":\"\",\"zerolinecolor\":\"white\",\"gridwidth\":2},\"yaxis\":{\"backgroundcolor\":\"#E5ECF6\",\"gridcolor\":\"white\",\"linecolor\":\"white\",\"showbackground\":true,\"ticks\":\"\",\"zerolinecolor\":\"white\",\"gridwidth\":2},\"zaxis\":{\"backgroundcolor\":\"#E5ECF6\",\"gridcolor\":\"white\",\"linecolor\":\"white\",\"showbackground\":true,\"ticks\":\"\",\"zerolinecolor\":\"white\",\"gridwidth\":2}},\"shapedefaults\":{\"line\":{\"color\":\"#2a3f5f\"}},\"annotationdefaults\":{\"arrowcolor\":\"#2a3f5f\",\"arrowhead\":0,\"arrowwidth\":1},\"geo\":{\"bgcolor\":\"white\",\"landcolor\":\"#E5ECF6\",\"subunitcolor\":\"white\",\"showland\":true,\"showlakes\":true,\"lakecolor\":\"white\"},\"title\":{\"x\":0.05},\"mapbox\":{\"style\":\"light\"}}},\"xaxis\":{\"title\":{\"text\":\"Признаки\"},\"tickangle\":-45},\"title\":{\"text\":\"Важность признаков (CatBoost)\"},\"yaxis\":{\"title\":{\"text\":\"Важность (PredictionValuesChange)\"}},\"height\":600,\"width\":1000},                        {\"responsive\": true}                    ).then(function(){\n",
              "                            \n",
              "var gd = document.getElementById('ee3ad5aa-3518-4477-9da6-76e2c32404f7');\n",
              "var x = new MutationObserver(function (mutations, observer) {{\n",
              "        var display = window.getComputedStyle(gd).display;\n",
              "        if (!display || display === 'none') {{\n",
              "            console.log([gd, 'removed!']);\n",
              "            Plotly.purge(gd);\n",
              "            observer.disconnect();\n",
              "        }}\n",
              "}});\n",
              "\n",
              "// Listen for the removal of the full notebook cells\n",
              "var notebookContainer = gd.closest('#notebook-container');\n",
              "if (notebookContainer) {{\n",
              "    x.observe(notebookContainer, {childList: true});\n",
              "}}\n",
              "\n",
              "// Listen for the clearing of the current output cell\n",
              "var outputEl = gd.closest('.output');\n",
              "if (outputEl) {{\n",
              "    x.observe(outputEl, {childList: true});\n",
              "}}\n",
              "\n",
              "                        })                };                            </script>        </div>\n",
              "</body>\n",
              "</html>"
            ]
          },
          "metadata": {}
        }
      ]
    },
    {
      "cell_type": "code",
      "source": [
        "top_positive_CatBoostCls = dict(list(positive_importance.items())[:15])"
      ],
      "metadata": {
        "id": "RXniZAd7N4f3"
      },
      "execution_count": 102,
      "outputs": []
    },
    {
      "cell_type": "code",
      "source": [
        "top_positive_CatBoostCls"
      ],
      "metadata": {
        "colab": {
          "base_uri": "https://localhost:8080/"
        },
        "id": "Vb0CBQ6UN6nB",
        "outputId": "fc006e9e-cd7b-4b8d-a735-9266b9dcf9dc"
      },
      "execution_count": 103,
      "outputs": [
        {
          "output_type": "execute_result",
          "data": {
            "text/plain": [
              "{'NOX4': np.float64(1.9134106868442302),\n",
              " 'PGPEP1': np.float64(1.1378867719237227),\n",
              " 'NKX6-1': np.float64(1.103430550017557),\n",
              " 'TPTE2P3': np.float64(1.0926869490393782),\n",
              " 'C3orf36': np.float64(1.09055651679961),\n",
              " 'C17orf81': np.float64(1.0905263220889838),\n",
              " 'SRGAP2': np.float64(1.074045602813039),\n",
              " 'ESAM': np.float64(1.0057974102964866),\n",
              " 'TEX10': np.float64(0.9842447724618434),\n",
              " 'KIF19': np.float64(0.9751559783771984),\n",
              " 'CEP72': np.float64(0.9703589265304049),\n",
              " 'GSDMA': np.float64(0.9695560074280839),\n",
              " 'CSF2RA': np.float64(0.9321541823413456),\n",
              " 'ELTD1': np.float64(0.8802503927837088),\n",
              " 'ENG': np.float64(0.8626840927557399)}"
            ]
          },
          "metadata": {},
          "execution_count": 103
        }
      ]
    },
    {
      "cell_type": "markdown",
      "source": [
        "## Результаты\n"
      ],
      "metadata": {
        "id": "55UnigvLh0Kv"
      }
    },
    {
      "cell_type": "code",
      "source": [
        "dicts = [top_positive_CatBoostCls, top_positive_LGBMCls, top_positive_CatBoostCls]\n",
        "common_keys = set.intersection(*(set(d.keys()) for d in dicts))"
      ],
      "metadata": {
        "id": "wWo1OQT_hb96"
      },
      "execution_count": 114,
      "outputs": []
    },
    {
      "cell_type": "code",
      "source": [
        "dicts"
      ],
      "metadata": {
        "colab": {
          "base_uri": "https://localhost:8080/"
        },
        "id": "IkM7mCO1lCQ5",
        "outputId": "4b5999da-9299-4b24-d0b5-eb31c4de7dd3"
      },
      "execution_count": 116,
      "outputs": [
        {
          "output_type": "execute_result",
          "data": {
            "text/plain": [
              "[{'NOX4': np.float64(1.9134106868442302),\n",
              "  'PGPEP1': np.float64(1.1378867719237227),\n",
              "  'NKX6-1': np.float64(1.103430550017557),\n",
              "  'TPTE2P3': np.float64(1.0926869490393782),\n",
              "  'C3orf36': np.float64(1.09055651679961),\n",
              "  'C17orf81': np.float64(1.0905263220889838),\n",
              "  'SRGAP2': np.float64(1.074045602813039),\n",
              "  'ESAM': np.float64(1.0057974102964866),\n",
              "  'TEX10': np.float64(0.9842447724618434),\n",
              "  'KIF19': np.float64(0.9751559783771984),\n",
              "  'CEP72': np.float64(0.9703589265304049),\n",
              "  'GSDMA': np.float64(0.9695560074280839),\n",
              "  'CSF2RA': np.float64(0.9321541823413456),\n",
              "  'ELTD1': np.float64(0.8802503927837088),\n",
              "  'ENG': np.float64(0.8626840927557399)},\n",
              " {'ANKLE1': np.int32(3),\n",
              "  'FAM106C': np.int32(3),\n",
              "  'DHRS12': np.int32(2),\n",
              "  'TRPA1': np.int32(2),\n",
              "  'ANO2': np.int32(1),\n",
              "  'ANXA10': np.int32(1),\n",
              "  'CDH5': np.int32(1),\n",
              "  'COMT': np.int32(1),\n",
              "  'DUSP4': np.int32(1),\n",
              "  'FAM107B': np.int32(1),\n",
              "  'FLJ44635': np.int32(1),\n",
              "  'IRAK1': np.int32(1),\n",
              "  'KIF19': np.int32(1),\n",
              "  'LOC389791': np.int32(1),\n",
              "  'LONRF1': np.int32(1)},\n",
              " {'NOX4': np.float64(1.9134106868442302),\n",
              "  'PGPEP1': np.float64(1.1378867719237227),\n",
              "  'NKX6-1': np.float64(1.103430550017557),\n",
              "  'TPTE2P3': np.float64(1.0926869490393782),\n",
              "  'C3orf36': np.float64(1.09055651679961),\n",
              "  'C17orf81': np.float64(1.0905263220889838),\n",
              "  'SRGAP2': np.float64(1.074045602813039),\n",
              "  'ESAM': np.float64(1.0057974102964866),\n",
              "  'TEX10': np.float64(0.9842447724618434),\n",
              "  'KIF19': np.float64(0.9751559783771984),\n",
              "  'CEP72': np.float64(0.9703589265304049),\n",
              "  'GSDMA': np.float64(0.9695560074280839),\n",
              "  'CSF2RA': np.float64(0.9321541823413456),\n",
              "  'ELTD1': np.float64(0.8802503927837088),\n",
              "  'ENG': np.float64(0.8626840927557399)}]"
            ]
          },
          "metadata": {},
          "execution_count": 116
        }
      ]
    },
    {
      "cell_type": "markdown",
      "source": [
        "### Пересечения результатов моделей"
      ],
      "metadata": {
        "id": "aJxTRFuImEhA"
      }
    },
    {
      "cell_type": "code",
      "source": [
        "common_keys"
      ],
      "metadata": {
        "colab": {
          "base_uri": "https://localhost:8080/"
        },
        "id": "8qZHQfVOksOc",
        "outputId": "4380d7fe-14cd-4235-d2f5-c837f539e67d"
      },
      "execution_count": 115,
      "outputs": [
        {
          "output_type": "execute_result",
          "data": {
            "text/plain": [
              "{'KIF19'}"
            ]
          },
          "metadata": {},
          "execution_count": 115
        }
      ]
    },
    {
      "cell_type": "markdown",
      "source": [
        "### Кол-во встреч генов исходя из результатов моделей"
      ],
      "metadata": {
        "id": "46D0VtnlmAbW"
      }
    },
    {
      "cell_type": "code",
      "source": [
        "all_keys = [key for d in dicts for key in d.keys()]\n",
        "\n",
        "key_counts = Counter(all_keys)\n",
        "\n",
        "print(key_counts)"
      ],
      "metadata": {
        "colab": {
          "base_uri": "https://localhost:8080/"
        },
        "id": "llahgAH8loMQ",
        "outputId": "ee0b6cf0-1a03-43bc-d8ab-2a014653bec3"
      },
      "execution_count": 118,
      "outputs": [
        {
          "output_type": "stream",
          "name": "stdout",
          "text": [
            "Counter({'KIF19': 3, 'NOX4': 2, 'PGPEP1': 2, 'NKX6-1': 2, 'TPTE2P3': 2, 'C3orf36': 2, 'C17orf81': 2, 'SRGAP2': 2, 'ESAM': 2, 'TEX10': 2, 'CEP72': 2, 'GSDMA': 2, 'CSF2RA': 2, 'ELTD1': 2, 'ENG': 2, 'ANKLE1': 1, 'FAM106C': 1, 'DHRS12': 1, 'TRPA1': 1, 'ANO2': 1, 'ANXA10': 1, 'CDH5': 1, 'COMT': 1, 'DUSP4': 1, 'FAM107B': 1, 'FLJ44635': 1, 'IRAK1': 1, 'LOC389791': 1, 'LONRF1': 1})\n"
          ]
        }
      ]
    }
  ]
}