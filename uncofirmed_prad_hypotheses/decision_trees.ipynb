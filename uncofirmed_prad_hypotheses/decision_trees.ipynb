{
 "cells": [
  {
   "cell_type": "code",
   "execution_count": null,
   "metadata": {
    "vscode": {
     "languageId": "plaintext"
    }
   },
   "outputs": [],
   "source": [
    "model_2 = DecisionTreeClassifier(criterion = 'entropy',\n",
    "                                 min_samples_split=20,\n",
    "                                 max_leaf_nodes=20)\n",
    "model_2.fit(X_train, y_train)\n",
    "y_pred = model_2.predict(X_val)"
   ]
  },
  {
   "cell_type": "code",
   "execution_count": null,
   "metadata": {
    "vscode": {
     "languageId": "plaintext"
    }
   },
   "outputs": [],
   "source": [
    "print(f\"Accuracy = {accuracy_score(y_val, y_pred)}\")\n",
    "print(f\"Precision = {precision_score(y_val, y_pred)}\")\n",
    "print(f\"Recall = {recall_score(y_val, y_pred)}\")\n",
    "print(f\"F1 Score = {f1_score(y_val, y_pred)}\")\n",
    "print(f\"specificity score = {specificity_score(y_val, y_pred)}\")"
   ]
  },
  {
   "cell_type": "code",
   "execution_count": null,
   "metadata": {
    "vscode": {
     "languageId": "plaintext"
    }
   },
   "outputs": [],
   "source": [
    "features_names = data_.drop(columns = [\"patient.biochemical_recurrence\"]).columns\n",
    "feature_importance = model_2.feature_importances_\n",
    "\n",
    "sorte = np.argsort(feature_importance)\n",
    "\n",
    "ypos = list(features_names)\n",
    "\n",
    "dict_tree = dict(zip(ypos, sorte))\n",
    "dict_tree = sorted(list(dict_tree.items()), key=lambda item: item[1], reverse=True)\n",
    "dict_tree"
   ]
  },
  {
   "cell_type": "markdown",
   "metadata": {},
   "source": [
    "Топ 2 генов:<br>\n",
    "- ABHD2\n",
    "- KLK2"
   ]
  }
 ],
 "metadata": {
  "language_info": {
   "name": "python"
  }
 },
 "nbformat": 4,
 "nbformat_minor": 2
}
