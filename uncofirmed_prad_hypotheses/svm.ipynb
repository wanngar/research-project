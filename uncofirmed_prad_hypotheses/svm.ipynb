{
 "cells": [
  {
   "cell_type": "code",
   "execution_count": null,
   "metadata": {
    "vscode": {
     "languageId": "plaintext"
    }
   },
   "outputs": [],
   "source": [
    "from sklearn import svm\n",
    "from sklearn.svm import LinearSVC"
   ]
  },
  {
   "cell_type": "code",
   "execution_count": null,
   "metadata": {
    "vscode": {
     "languageId": "plaintext"
    }
   },
   "outputs": [],
   "source": [
    "model_SVM = LinearSVC()\n",
    "model_SVM.fit(X_train, y_train)\n",
    "y_pred = model_SVM.predict(X_val)"
   ]
  },
  {
   "cell_type": "code",
   "execution_count": null,
   "metadata": {
    "vscode": {
     "languageId": "plaintext"
    }
   },
   "outputs": [],
   "source": [
    "print(f\"Accuracy = {accuracy_score(y_val, y_pred)}\")\n",
    "print(f\"Precision = {precision_score(y_val, y_pred)}\")\n",
    "print(f\"Recall = {recall_score(y_val, y_pred)}\")\n",
    "print(f\"F1 Score = {f1_score(y_val, y_pred)}\")\n",
    "print(f\"specificity score = {specificity_score(y_val, y_pred)}\")"
   ]
  },
  {
   "cell_type": "code",
   "execution_count": null,
   "metadata": {
    "vscode": {
     "languageId": "plaintext"
    }
   },
   "outputs": [],
   "source": [
    "w = list(model_SVM.coef_[0])\n",
    "c= data_.columns.tolist()\n",
    "c.remove('patient.biochemical_recurrence')\n",
    "dict_w = dict(zip(c,w))\n",
    "positive_dict = {k: v for k, v in dict_w.items() if v > 0}\n",
    "positive_dict = dict(sorted(positive_dict.items(), key=lambda item: item[1], reverse=True))\n",
    "#positive_dict"
   ]
  },
  {
   "cell_type": "code",
   "execution_count": null,
   "metadata": {
    "vscode": {
     "languageId": "plaintext"
    }
   },
   "outputs": [],
   "source": [
    "fig = go.Figure()\n",
    "fig.add_trace(go.Bar(x=p_c, y=p_w))\n",
    "\n",
    "\n",
    "fig.update_layout(\n",
    "    title='Гистограмма 2D',\n",
    "    xaxis_title='X',\n",
    "    yaxis_title='Y'\n",
    ")\n",
    "\n",
    "\n",
    "fig.show()"
   ]
  },
  {
   "cell_type": "markdown",
   "metadata": {},
   "source": [
    "Топ 10 генов:<br>\n",
    "- ABHD2, 13.74\n",
    "- MME, 11.11\n",
    "- PABPC1, 10.82\n",
    "- TRPM8, 10.56\n",
    "- NBL1, 9.35\n",
    "- KLK2, 8,79\n",
    "- P4HB, 8.17\n",
    "- ORM1, 8.14\n",
    "- HLA-DRA, 7.95\n",
    "- FOLH, 7,74"
   ]
  }
 ],
 "metadata": {
  "language_info": {
   "name": "python"
  }
 },
 "nbformat": 4,
 "nbformat_minor": 2
}
